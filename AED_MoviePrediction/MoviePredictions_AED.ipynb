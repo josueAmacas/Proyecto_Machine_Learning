{
  "cells": [
    {
      "cell_type": "markdown",
      "metadata": {
        "id": "uIPiNMKOzFSh"
      },
      "source": [
        "# **Universidad Nacional de Loja**\n",
        "\n",
        "**Carrera de Ingeniería en Sistemas**\n",
        "\n",
        "OCTUBRE 2021 – ABRIL 2022"
      ]
    },
    {
      "cell_type": "markdown",
      "metadata": {
        "id": "VOPt4DH9zMAX"
      },
      "source": [
        "**Autores:**\n",
        "\n",
        "*   Josue Andres Macas Caraguay\n",
        "*   Jorge Gustavo Tandazo Cueva"
      ]
    },
    {
      "cell_type": "markdown",
      "metadata": {
        "id": "prpJYpyq209_"
      },
      "source": [
        "Durante el desarrollo del presente trabajo, se pone en práctica algunas de las técnicas de análisis de datos, se utiliza código ejecutable en Python para la manipulación y representación de los mismos, además, se han utilizado dos conjuntos de datos diferentes, uno de películas y programas de televisión de Netflix el cual ha sido extraido del repositorio de base de datos \"Kaggle\" by Shivam Bansal, url: https://www.kaggle.com/shivamb/netflix-shows y el segundo de películas y programas de televisión de IMDb que al igual que el anterior fue extraido del del repositorio de base de datos \"Kaggle\" by Ngoc Hieu Nguyen, url: https://www.kaggle.com/ngochieunguyen/imdb-extensive. Se realizó la fusión de datos y la limpieza de los mismos para elaborar el análisis EDA y obtener resultados precisos en el proyecto."
      ]
    },
    {
      "cell_type": "markdown",
      "metadata": {
        "id": "qQydveMLIORS"
      },
      "source": [
        "# **1. Datos y definición del problema**"
      ]
    },
    {
      "cell_type": "markdown",
      "metadata": {
        "id": "t1q1NSTOt-_G"
      },
      "source": [
        "**Problema**\n",
        "\n",
        "Uno de los principales problemas de nuestro conjunto de datos es que, a partir de nuestros datos, un usuario de Netflix no puede entender qué película o programa de televisión ver que sea similar al que vio anteriormente. El otro problema principal es que, cuando se estrena una nueva película o programa de televisión, se tarda en ver su calificación en IMDb. Sin embargo, sería estupendo que tuviéramos un algoritmo de predicción para que las películas recién estrenadas pudieran predecir sus calificaciones en la IMDb.\n"
      ]
    },
    {
      "cell_type": "markdown",
      "metadata": {
        "id": "vA7WANWW0FVo"
      },
      "source": [
        "**Netflix**\n",
        "\n",
        "https://www.kaggle.com/shivamb/netflix-shows\n",
        "\n",
        "El primer conjunto de datos consiste en Películas y Programas de TV disponibles en Netflix a partir de 2019. El nombre del archivo es \"netflix_titles.csv\". El conjunto de datos se recoge de Flixable, que es un motor de búsqueda de Netflix de terceros.\n",
        "\n",
        "**Datos de IMDb**\n",
        "\n",
        " https://www.kaggle.com/ngochieunguyen/imdb-extensive\n",
        "\n",
        "El segundo conjunto de datos utilizado es el archivo llamado \"IMDb_movies.csv\". IMDb es el sitio web más popular de películas y programas de televisión e incluye el argumento, el reparto, la descripción, las valoraciones de los usuarios, los años de estreno y muchos otros aspectos."
      ]
    },
    {
      "cell_type": "markdown",
      "source": [
        "**Tipos de Variables**\n",
        "\n",
        ">**Cualitativas (datos categóricos):**\n",
        "*  Title (titulo de cada pelicula o show de TV)\n",
        "*  Country (País de origen de cada pelicula)\n",
        "*  Language (Idioma en en el se encutra la pelicula o show de TV)\n",
        "*  Director (Nombre del director de la pelicula o show de TV)\n",
        "*  Description (Breve descripción de la pelicula o show de TV)\n",
        "*  Genre (Genero al que pertenece la serie o show de TV)\n",
        "\n",
        "\n",
        "> **Cuantitativas (datos númericos):**\n",
        "*  Duration (Duracion de cada pelicula)\n",
        "*  IMDb Rating (Calificación de cada pelicula en IMDb)\n",
        "*  Votes (Votos de cada pelicula en IMDb)\n",
        "*  Budget (Presupuesto utilizado en cada Pelicula)\n",
        "*  Year (Año de origen de cada pelicula o show de TV)\n",
        "*  Rating (Calificación de cada pelicula en Netflix)"
      ],
      "metadata": {
        "id": "1ualuAoRiIzT"
      }
    },
    {
      "cell_type": "markdown",
      "metadata": {
        "id": "xzARNBFLJAmn"
      },
      "source": [
        "# **2. Colección de datos**"
      ]
    },
    {
      "cell_type": "code",
      "execution_count": null,
      "metadata": {
        "id": "GvFgZWB65OjJ"
      },
      "outputs": [],
      "source": [
        "import numpy as np #da soporte para crear vectores y matrices grandes multidimensionales \n",
        "import pandas as pd #ofrece estructuras de datos y operaciones para manipular tablas numéricas y series temporales\n",
        "import matplotlib\n",
        "import matplotlib.pyplot as plt #biblioteca para la generación de gráficos\n",
        "import seaborn as sns #librería de visualización de datos para Python desarrollada sobre matplotlib\n",
        "\n",
        "from joblib import dump, load\n",
        "%matplotlib inline"
      ]
    },
    {
      "cell_type": "code",
      "execution_count": null,
      "metadata": {
        "colab": {
          "base_uri": "https://localhost:8080/"
        },
        "id": "gtnqvilU5yQ0",
        "outputId": "9c09ade3-7852-49f1-cec0-ca038c8f844d"
      },
      "outputs": [
        {
          "output_type": "stream",
          "name": "stderr",
          "text": [
            "/usr/local/lib/python3.7/dist-packages/IPython/core/interactiveshell.py:2882: DtypeWarning: Columns (3) have mixed types.Specify dtype option on import or set low_memory=False.\n",
            "  exec(code_obj, self.user_global_ns, self.user_ns)\n"
          ]
        }
      ],
      "source": [
        "dfN =  pd.read_csv(\"/content/netflix_titles.csv\") #lee el archivo de Netflix con los datos\n",
        "dfI =  pd.read_csv(\"/content/IMDb_movies.csv\") #lee el archivo de IMDb con los datos"
      ]
    },
    {
      "cell_type": "code",
      "execution_count": null,
      "metadata": {
        "colab": {
          "base_uri": "https://localhost:8080/",
          "height": 476
        },
        "id": "igtdJHVcWTG-",
        "outputId": "07b0b9a9-a584-4005-80f5-1a6b53d64185"
      },
      "outputs": [
        {
          "output_type": "execute_result",
          "data": {
            "text/html": [
              "\n",
              "  <div id=\"df-5c5a78c9-8b7c-4dc7-87e0-4c198e7608f1\">\n",
              "    <div class=\"colab-df-container\">\n",
              "      <div>\n",
              "<style scoped>\n",
              "    .dataframe tbody tr th:only-of-type {\n",
              "        vertical-align: middle;\n",
              "    }\n",
              "\n",
              "    .dataframe tbody tr th {\n",
              "        vertical-align: top;\n",
              "    }\n",
              "\n",
              "    .dataframe thead th {\n",
              "        text-align: right;\n",
              "    }\n",
              "</style>\n",
              "<table border=\"1\" class=\"dataframe\">\n",
              "  <thead>\n",
              "    <tr style=\"text-align: right;\">\n",
              "      <th></th>\n",
              "      <th>show_id</th>\n",
              "      <th>type</th>\n",
              "      <th>title</th>\n",
              "      <th>director</th>\n",
              "      <th>cast</th>\n",
              "      <th>country</th>\n",
              "      <th>date_added</th>\n",
              "      <th>release_year</th>\n",
              "      <th>rating</th>\n",
              "      <th>duration</th>\n",
              "      <th>listed_in</th>\n",
              "      <th>description</th>\n",
              "    </tr>\n",
              "  </thead>\n",
              "  <tbody>\n",
              "    <tr>\n",
              "      <th>0</th>\n",
              "      <td>s1</td>\n",
              "      <td>Movie</td>\n",
              "      <td>Dick Johnson Is Dead</td>\n",
              "      <td>Kirsten Johnson</td>\n",
              "      <td>NaN</td>\n",
              "      <td>United States</td>\n",
              "      <td>September 25, 2021</td>\n",
              "      <td>2020</td>\n",
              "      <td>PG-13</td>\n",
              "      <td>90 min</td>\n",
              "      <td>Documentaries</td>\n",
              "      <td>As her father nears the end of his life, filmm...</td>\n",
              "    </tr>\n",
              "    <tr>\n",
              "      <th>1</th>\n",
              "      <td>s2</td>\n",
              "      <td>TV Show</td>\n",
              "      <td>Blood &amp; Water</td>\n",
              "      <td>NaN</td>\n",
              "      <td>Ama Qamata, Khosi Ngema, Gail Mabalane, Thaban...</td>\n",
              "      <td>South Africa</td>\n",
              "      <td>September 24, 2021</td>\n",
              "      <td>2021</td>\n",
              "      <td>TV-MA</td>\n",
              "      <td>2 Seasons</td>\n",
              "      <td>International TV Shows, TV Dramas, TV Mysteries</td>\n",
              "      <td>After crossing paths at a party, a Cape Town t...</td>\n",
              "    </tr>\n",
              "    <tr>\n",
              "      <th>2</th>\n",
              "      <td>s3</td>\n",
              "      <td>TV Show</td>\n",
              "      <td>Ganglands</td>\n",
              "      <td>Julien Leclercq</td>\n",
              "      <td>Sami Bouajila, Tracy Gotoas, Samuel Jouy, Nabi...</td>\n",
              "      <td>NaN</td>\n",
              "      <td>September 24, 2021</td>\n",
              "      <td>2021</td>\n",
              "      <td>TV-MA</td>\n",
              "      <td>1 Season</td>\n",
              "      <td>Crime TV Shows, International TV Shows, TV Act...</td>\n",
              "      <td>To protect his family from a powerful drug lor...</td>\n",
              "    </tr>\n",
              "    <tr>\n",
              "      <th>3</th>\n",
              "      <td>s4</td>\n",
              "      <td>TV Show</td>\n",
              "      <td>Jailbirds New Orleans</td>\n",
              "      <td>NaN</td>\n",
              "      <td>NaN</td>\n",
              "      <td>NaN</td>\n",
              "      <td>September 24, 2021</td>\n",
              "      <td>2021</td>\n",
              "      <td>TV-MA</td>\n",
              "      <td>1 Season</td>\n",
              "      <td>Docuseries, Reality TV</td>\n",
              "      <td>Feuds, flirtations and toilet talk go down amo...</td>\n",
              "    </tr>\n",
              "    <tr>\n",
              "      <th>4</th>\n",
              "      <td>s5</td>\n",
              "      <td>TV Show</td>\n",
              "      <td>Kota Factory</td>\n",
              "      <td>NaN</td>\n",
              "      <td>Mayur More, Jitendra Kumar, Ranjan Raj, Alam K...</td>\n",
              "      <td>India</td>\n",
              "      <td>September 24, 2021</td>\n",
              "      <td>2021</td>\n",
              "      <td>TV-MA</td>\n",
              "      <td>2 Seasons</td>\n",
              "      <td>International TV Shows, Romantic TV Shows, TV ...</td>\n",
              "      <td>In a city of coaching centers known to train I...</td>\n",
              "    </tr>\n",
              "  </tbody>\n",
              "</table>\n",
              "</div>\n",
              "      <button class=\"colab-df-convert\" onclick=\"convertToInteractive('df-5c5a78c9-8b7c-4dc7-87e0-4c198e7608f1')\"\n",
              "              title=\"Convert this dataframe to an interactive table.\"\n",
              "              style=\"display:none;\">\n",
              "        \n",
              "  <svg xmlns=\"http://www.w3.org/2000/svg\" height=\"24px\"viewBox=\"0 0 24 24\"\n",
              "       width=\"24px\">\n",
              "    <path d=\"M0 0h24v24H0V0z\" fill=\"none\"/>\n",
              "    <path d=\"M18.56 5.44l.94 2.06.94-2.06 2.06-.94-2.06-.94-.94-2.06-.94 2.06-2.06.94zm-11 1L8.5 8.5l.94-2.06 2.06-.94-2.06-.94L8.5 2.5l-.94 2.06-2.06.94zm10 10l.94 2.06.94-2.06 2.06-.94-2.06-.94-.94-2.06-.94 2.06-2.06.94z\"/><path d=\"M17.41 7.96l-1.37-1.37c-.4-.4-.92-.59-1.43-.59-.52 0-1.04.2-1.43.59L10.3 9.45l-7.72 7.72c-.78.78-.78 2.05 0 2.83L4 21.41c.39.39.9.59 1.41.59.51 0 1.02-.2 1.41-.59l7.78-7.78 2.81-2.81c.8-.78.8-2.07 0-2.86zM5.41 20L4 18.59l7.72-7.72 1.47 1.35L5.41 20z\"/>\n",
              "  </svg>\n",
              "      </button>\n",
              "      \n",
              "  <style>\n",
              "    .colab-df-container {\n",
              "      display:flex;\n",
              "      flex-wrap:wrap;\n",
              "      gap: 12px;\n",
              "    }\n",
              "\n",
              "    .colab-df-convert {\n",
              "      background-color: #E8F0FE;\n",
              "      border: none;\n",
              "      border-radius: 50%;\n",
              "      cursor: pointer;\n",
              "      display: none;\n",
              "      fill: #1967D2;\n",
              "      height: 32px;\n",
              "      padding: 0 0 0 0;\n",
              "      width: 32px;\n",
              "    }\n",
              "\n",
              "    .colab-df-convert:hover {\n",
              "      background-color: #E2EBFA;\n",
              "      box-shadow: 0px 1px 2px rgba(60, 64, 67, 0.3), 0px 1px 3px 1px rgba(60, 64, 67, 0.15);\n",
              "      fill: #174EA6;\n",
              "    }\n",
              "\n",
              "    [theme=dark] .colab-df-convert {\n",
              "      background-color: #3B4455;\n",
              "      fill: #D2E3FC;\n",
              "    }\n",
              "\n",
              "    [theme=dark] .colab-df-convert:hover {\n",
              "      background-color: #434B5C;\n",
              "      box-shadow: 0px 1px 3px 1px rgba(0, 0, 0, 0.15);\n",
              "      filter: drop-shadow(0px 1px 2px rgba(0, 0, 0, 0.3));\n",
              "      fill: #FFFFFF;\n",
              "    }\n",
              "  </style>\n",
              "\n",
              "      <script>\n",
              "        const buttonEl =\n",
              "          document.querySelector('#df-5c5a78c9-8b7c-4dc7-87e0-4c198e7608f1 button.colab-df-convert');\n",
              "        buttonEl.style.display =\n",
              "          google.colab.kernel.accessAllowed ? 'block' : 'none';\n",
              "\n",
              "        async function convertToInteractive(key) {\n",
              "          const element = document.querySelector('#df-5c5a78c9-8b7c-4dc7-87e0-4c198e7608f1');\n",
              "          const dataTable =\n",
              "            await google.colab.kernel.invokeFunction('convertToInteractive',\n",
              "                                                     [key], {});\n",
              "          if (!dataTable) return;\n",
              "\n",
              "          const docLinkHtml = 'Like what you see? Visit the ' +\n",
              "            '<a target=\"_blank\" href=https://colab.research.google.com/notebooks/data_table.ipynb>data table notebook</a>'\n",
              "            + ' to learn more about interactive tables.';\n",
              "          element.innerHTML = '';\n",
              "          dataTable['output_type'] = 'display_data';\n",
              "          await google.colab.output.renderOutput(dataTable, element);\n",
              "          const docLink = document.createElement('div');\n",
              "          docLink.innerHTML = docLinkHtml;\n",
              "          element.appendChild(docLink);\n",
              "        }\n",
              "      </script>\n",
              "    </div>\n",
              "  </div>\n",
              "  "
            ],
            "text/plain": [
              "  show_id  ...                                        description\n",
              "0      s1  ...  As her father nears the end of his life, filmm...\n",
              "1      s2  ...  After crossing paths at a party, a Cape Town t...\n",
              "2      s3  ...  To protect his family from a powerful drug lor...\n",
              "3      s4  ...  Feuds, flirtations and toilet talk go down amo...\n",
              "4      s5  ...  In a city of coaching centers known to train I...\n",
              "\n",
              "[5 rows x 12 columns]"
            ]
          },
          "metadata": {},
          "execution_count": 3
        }
      ],
      "source": [
        "dfN.head() #devuelve los primeros elementos de la estructura de Dataset de Netflix"
      ]
    },
    {
      "cell_type": "code",
      "source": [
        "dfN.info()"
      ],
      "metadata": {
        "colab": {
          "base_uri": "https://localhost:8080/"
        },
        "id": "GdnZnqAN3v35",
        "outputId": "b38cac08-2e72-4214-c7f4-0e214fd977f2"
      },
      "execution_count": null,
      "outputs": [
        {
          "output_type": "stream",
          "name": "stdout",
          "text": [
            "<class 'pandas.core.frame.DataFrame'>\n",
            "RangeIndex: 8807 entries, 0 to 8806\n",
            "Data columns (total 12 columns):\n",
            " #   Column        Non-Null Count  Dtype \n",
            "---  ------        --------------  ----- \n",
            " 0   show_id       8807 non-null   object\n",
            " 1   type          8807 non-null   object\n",
            " 2   title         8807 non-null   object\n",
            " 3   director      6173 non-null   object\n",
            " 4   cast          7982 non-null   object\n",
            " 5   country       7976 non-null   object\n",
            " 6   date_added    8797 non-null   object\n",
            " 7   release_year  8807 non-null   int64 \n",
            " 8   rating        8803 non-null   object\n",
            " 9   duration      8804 non-null   object\n",
            " 10  listed_in     8807 non-null   object\n",
            " 11  description   8807 non-null   object\n",
            "dtypes: int64(1), object(11)\n",
            "memory usage: 825.8+ KB\n"
          ]
        }
      ]
    },
    {
      "cell_type": "code",
      "execution_count": null,
      "metadata": {
        "colab": {
          "base_uri": "https://localhost:8080/",
          "height": 722
        },
        "id": "oRaEZRG822Ve",
        "outputId": "4d45241a-c613-42eb-ed59-64596c65443c"
      },
      "outputs": [
        {
          "output_type": "execute_result",
          "data": {
            "text/html": [
              "\n",
              "  <div id=\"df-819bfe7b-8172-42ab-bdb3-8f1de7ca4691\">\n",
              "    <div class=\"colab-df-container\">\n",
              "      <div>\n",
              "<style scoped>\n",
              "    .dataframe tbody tr th:only-of-type {\n",
              "        vertical-align: middle;\n",
              "    }\n",
              "\n",
              "    .dataframe tbody tr th {\n",
              "        vertical-align: top;\n",
              "    }\n",
              "\n",
              "    .dataframe thead th {\n",
              "        text-align: right;\n",
              "    }\n",
              "</style>\n",
              "<table border=\"1\" class=\"dataframe\">\n",
              "  <thead>\n",
              "    <tr style=\"text-align: right;\">\n",
              "      <th></th>\n",
              "      <th>imdb_title_id</th>\n",
              "      <th>title</th>\n",
              "      <th>original_title</th>\n",
              "      <th>year</th>\n",
              "      <th>date_published</th>\n",
              "      <th>genre</th>\n",
              "      <th>duration</th>\n",
              "      <th>country</th>\n",
              "      <th>language</th>\n",
              "      <th>director</th>\n",
              "      <th>writer</th>\n",
              "      <th>production_company</th>\n",
              "      <th>actors</th>\n",
              "      <th>description</th>\n",
              "      <th>avg_vote</th>\n",
              "      <th>votes</th>\n",
              "      <th>budget</th>\n",
              "      <th>usa_gross_income</th>\n",
              "      <th>worlwide_gross_income</th>\n",
              "      <th>metascore</th>\n",
              "      <th>reviews_from_users</th>\n",
              "      <th>reviews_from_critics</th>\n",
              "    </tr>\n",
              "  </thead>\n",
              "  <tbody>\n",
              "    <tr>\n",
              "      <th>0</th>\n",
              "      <td>tt0000009</td>\n",
              "      <td>Miss Jerry</td>\n",
              "      <td>Miss Jerry</td>\n",
              "      <td>1894</td>\n",
              "      <td>1894-10-09</td>\n",
              "      <td>Romance</td>\n",
              "      <td>45</td>\n",
              "      <td>USA</td>\n",
              "      <td>None</td>\n",
              "      <td>Alexander Black</td>\n",
              "      <td>Alexander Black</td>\n",
              "      <td>Alexander Black Photoplays</td>\n",
              "      <td>Blanche Bayliss, William Courtenay, Chauncey D...</td>\n",
              "      <td>The adventures of a female reporter in the 1890s.</td>\n",
              "      <td>5.9</td>\n",
              "      <td>154</td>\n",
              "      <td>NaN</td>\n",
              "      <td>NaN</td>\n",
              "      <td>NaN</td>\n",
              "      <td>NaN</td>\n",
              "      <td>1.0</td>\n",
              "      <td>2.0</td>\n",
              "    </tr>\n",
              "    <tr>\n",
              "      <th>1</th>\n",
              "      <td>tt0000574</td>\n",
              "      <td>The Story of the Kelly Gang</td>\n",
              "      <td>The Story of the Kelly Gang</td>\n",
              "      <td>1906</td>\n",
              "      <td>1906-12-26</td>\n",
              "      <td>Biography, Crime, Drama</td>\n",
              "      <td>70</td>\n",
              "      <td>Australia</td>\n",
              "      <td>None</td>\n",
              "      <td>Charles Tait</td>\n",
              "      <td>Charles Tait</td>\n",
              "      <td>J. and N. Tait</td>\n",
              "      <td>Elizabeth Tait, John Tait, Norman Campbell, Be...</td>\n",
              "      <td>True story of notorious Australian outlaw Ned ...</td>\n",
              "      <td>6.1</td>\n",
              "      <td>589</td>\n",
              "      <td>$ 2250</td>\n",
              "      <td>NaN</td>\n",
              "      <td>NaN</td>\n",
              "      <td>NaN</td>\n",
              "      <td>7.0</td>\n",
              "      <td>7.0</td>\n",
              "    </tr>\n",
              "    <tr>\n",
              "      <th>2</th>\n",
              "      <td>tt0001892</td>\n",
              "      <td>Den sorte drøm</td>\n",
              "      <td>Den sorte drøm</td>\n",
              "      <td>1911</td>\n",
              "      <td>1911-08-19</td>\n",
              "      <td>Drama</td>\n",
              "      <td>53</td>\n",
              "      <td>Germany, Denmark</td>\n",
              "      <td>NaN</td>\n",
              "      <td>Urban Gad</td>\n",
              "      <td>Urban Gad, Gebhard Schätzler-Perasini</td>\n",
              "      <td>Fotorama</td>\n",
              "      <td>Asta Nielsen, Valdemar Psilander, Gunnar Helse...</td>\n",
              "      <td>Two men of high rank are both wooing the beaut...</td>\n",
              "      <td>5.8</td>\n",
              "      <td>188</td>\n",
              "      <td>NaN</td>\n",
              "      <td>NaN</td>\n",
              "      <td>NaN</td>\n",
              "      <td>NaN</td>\n",
              "      <td>5.0</td>\n",
              "      <td>2.0</td>\n",
              "    </tr>\n",
              "    <tr>\n",
              "      <th>3</th>\n",
              "      <td>tt0002101</td>\n",
              "      <td>Cleopatra</td>\n",
              "      <td>Cleopatra</td>\n",
              "      <td>1912</td>\n",
              "      <td>1912-11-13</td>\n",
              "      <td>Drama, History</td>\n",
              "      <td>100</td>\n",
              "      <td>USA</td>\n",
              "      <td>English</td>\n",
              "      <td>Charles L. Gaskill</td>\n",
              "      <td>Victorien Sardou</td>\n",
              "      <td>Helen Gardner Picture Players</td>\n",
              "      <td>Helen Gardner, Pearl Sindelar, Miss Fielding, ...</td>\n",
              "      <td>The fabled queen of Egypt's affair with Roman ...</td>\n",
              "      <td>5.2</td>\n",
              "      <td>446</td>\n",
              "      <td>$ 45000</td>\n",
              "      <td>NaN</td>\n",
              "      <td>NaN</td>\n",
              "      <td>NaN</td>\n",
              "      <td>25.0</td>\n",
              "      <td>3.0</td>\n",
              "    </tr>\n",
              "    <tr>\n",
              "      <th>4</th>\n",
              "      <td>tt0002130</td>\n",
              "      <td>L'Inferno</td>\n",
              "      <td>L'Inferno</td>\n",
              "      <td>1911</td>\n",
              "      <td>1911-03-06</td>\n",
              "      <td>Adventure, Drama, Fantasy</td>\n",
              "      <td>68</td>\n",
              "      <td>Italy</td>\n",
              "      <td>Italian</td>\n",
              "      <td>Francesco Bertolini, Adolfo Padovan</td>\n",
              "      <td>Dante Alighieri</td>\n",
              "      <td>Milano Film</td>\n",
              "      <td>Salvatore Papa, Arturo Pirovano, Giuseppe de L...</td>\n",
              "      <td>Loosely adapted from Dante's Divine Comedy and...</td>\n",
              "      <td>7.0</td>\n",
              "      <td>2237</td>\n",
              "      <td>NaN</td>\n",
              "      <td>NaN</td>\n",
              "      <td>NaN</td>\n",
              "      <td>NaN</td>\n",
              "      <td>31.0</td>\n",
              "      <td>14.0</td>\n",
              "    </tr>\n",
              "  </tbody>\n",
              "</table>\n",
              "</div>\n",
              "      <button class=\"colab-df-convert\" onclick=\"convertToInteractive('df-819bfe7b-8172-42ab-bdb3-8f1de7ca4691')\"\n",
              "              title=\"Convert this dataframe to an interactive table.\"\n",
              "              style=\"display:none;\">\n",
              "        \n",
              "  <svg xmlns=\"http://www.w3.org/2000/svg\" height=\"24px\"viewBox=\"0 0 24 24\"\n",
              "       width=\"24px\">\n",
              "    <path d=\"M0 0h24v24H0V0z\" fill=\"none\"/>\n",
              "    <path d=\"M18.56 5.44l.94 2.06.94-2.06 2.06-.94-2.06-.94-.94-2.06-.94 2.06-2.06.94zm-11 1L8.5 8.5l.94-2.06 2.06-.94-2.06-.94L8.5 2.5l-.94 2.06-2.06.94zm10 10l.94 2.06.94-2.06 2.06-.94-2.06-.94-.94-2.06-.94 2.06-2.06.94z\"/><path d=\"M17.41 7.96l-1.37-1.37c-.4-.4-.92-.59-1.43-.59-.52 0-1.04.2-1.43.59L10.3 9.45l-7.72 7.72c-.78.78-.78 2.05 0 2.83L4 21.41c.39.39.9.59 1.41.59.51 0 1.02-.2 1.41-.59l7.78-7.78 2.81-2.81c.8-.78.8-2.07 0-2.86zM5.41 20L4 18.59l7.72-7.72 1.47 1.35L5.41 20z\"/>\n",
              "  </svg>\n",
              "      </button>\n",
              "      \n",
              "  <style>\n",
              "    .colab-df-container {\n",
              "      display:flex;\n",
              "      flex-wrap:wrap;\n",
              "      gap: 12px;\n",
              "    }\n",
              "\n",
              "    .colab-df-convert {\n",
              "      background-color: #E8F0FE;\n",
              "      border: none;\n",
              "      border-radius: 50%;\n",
              "      cursor: pointer;\n",
              "      display: none;\n",
              "      fill: #1967D2;\n",
              "      height: 32px;\n",
              "      padding: 0 0 0 0;\n",
              "      width: 32px;\n",
              "    }\n",
              "\n",
              "    .colab-df-convert:hover {\n",
              "      background-color: #E2EBFA;\n",
              "      box-shadow: 0px 1px 2px rgba(60, 64, 67, 0.3), 0px 1px 3px 1px rgba(60, 64, 67, 0.15);\n",
              "      fill: #174EA6;\n",
              "    }\n",
              "\n",
              "    [theme=dark] .colab-df-convert {\n",
              "      background-color: #3B4455;\n",
              "      fill: #D2E3FC;\n",
              "    }\n",
              "\n",
              "    [theme=dark] .colab-df-convert:hover {\n",
              "      background-color: #434B5C;\n",
              "      box-shadow: 0px 1px 3px 1px rgba(0, 0, 0, 0.15);\n",
              "      filter: drop-shadow(0px 1px 2px rgba(0, 0, 0, 0.3));\n",
              "      fill: #FFFFFF;\n",
              "    }\n",
              "  </style>\n",
              "\n",
              "      <script>\n",
              "        const buttonEl =\n",
              "          document.querySelector('#df-819bfe7b-8172-42ab-bdb3-8f1de7ca4691 button.colab-df-convert');\n",
              "        buttonEl.style.display =\n",
              "          google.colab.kernel.accessAllowed ? 'block' : 'none';\n",
              "\n",
              "        async function convertToInteractive(key) {\n",
              "          const element = document.querySelector('#df-819bfe7b-8172-42ab-bdb3-8f1de7ca4691');\n",
              "          const dataTable =\n",
              "            await google.colab.kernel.invokeFunction('convertToInteractive',\n",
              "                                                     [key], {});\n",
              "          if (!dataTable) return;\n",
              "\n",
              "          const docLinkHtml = 'Like what you see? Visit the ' +\n",
              "            '<a target=\"_blank\" href=https://colab.research.google.com/notebooks/data_table.ipynb>data table notebook</a>'\n",
              "            + ' to learn more about interactive tables.';\n",
              "          element.innerHTML = '';\n",
              "          dataTable['output_type'] = 'display_data';\n",
              "          await google.colab.output.renderOutput(dataTable, element);\n",
              "          const docLink = document.createElement('div');\n",
              "          docLink.innerHTML = docLinkHtml;\n",
              "          element.appendChild(docLink);\n",
              "        }\n",
              "      </script>\n",
              "    </div>\n",
              "  </div>\n",
              "  "
            ],
            "text/plain": [
              "  imdb_title_id  ... reviews_from_critics\n",
              "0     tt0000009  ...                  2.0\n",
              "1     tt0000574  ...                  7.0\n",
              "2     tt0001892  ...                  2.0\n",
              "3     tt0002101  ...                  3.0\n",
              "4     tt0002130  ...                 14.0\n",
              "\n",
              "[5 rows x 22 columns]"
            ]
          },
          "metadata": {},
          "execution_count": 5
        }
      ],
      "source": [
        "dfI.head() #devuelve los primeros elementos de la estructura de Dataset de IMDb"
      ]
    },
    {
      "cell_type": "code",
      "source": [
        "dfI.info()"
      ],
      "metadata": {
        "colab": {
          "base_uri": "https://localhost:8080/"
        },
        "id": "WrYzm7AC32EK",
        "outputId": "8fa44a7a-228e-43c8-b333-110b9f83ea75"
      },
      "execution_count": null,
      "outputs": [
        {
          "output_type": "stream",
          "name": "stdout",
          "text": [
            "<class 'pandas.core.frame.DataFrame'>\n",
            "RangeIndex: 85855 entries, 0 to 85854\n",
            "Data columns (total 22 columns):\n",
            " #   Column                 Non-Null Count  Dtype  \n",
            "---  ------                 --------------  -----  \n",
            " 0   imdb_title_id          85855 non-null  object \n",
            " 1   title                  85855 non-null  object \n",
            " 2   original_title         85855 non-null  object \n",
            " 3   year                   85855 non-null  object \n",
            " 4   date_published         85855 non-null  object \n",
            " 5   genre                  85855 non-null  object \n",
            " 6   duration               85855 non-null  int64  \n",
            " 7   country                85791 non-null  object \n",
            " 8   language               85022 non-null  object \n",
            " 9   director               85768 non-null  object \n",
            " 10  writer                 84283 non-null  object \n",
            " 11  production_company     81400 non-null  object \n",
            " 12  actors                 85786 non-null  object \n",
            " 13  description            83740 non-null  object \n",
            " 14  avg_vote               85855 non-null  float64\n",
            " 15  votes                  85855 non-null  int64  \n",
            " 16  budget                 23710 non-null  object \n",
            " 17  usa_gross_income       15326 non-null  object \n",
            " 18  worlwide_gross_income  31016 non-null  object \n",
            " 19  metascore              13305 non-null  float64\n",
            " 20  reviews_from_users     78258 non-null  float64\n",
            " 21  reviews_from_critics   74058 non-null  float64\n",
            "dtypes: float64(4), int64(2), object(16)\n",
            "memory usage: 14.4+ MB\n"
          ]
        }
      ]
    },
    {
      "cell_type": "markdown",
      "metadata": {
        "id": "0NrGcTgA21Zs"
      },
      "source": [
        "Fusión de los datos por sus títulos de películas"
      ]
    },
    {
      "cell_type": "code",
      "execution_count": null,
      "metadata": {
        "colab": {
          "base_uri": "https://localhost:8080/",
          "height": 384
        },
        "id": "jPZED0A13Xfe",
        "outputId": "c6549dc2-9a1b-4ed8-ad2c-7939bdf90823"
      },
      "outputs": [
        {
          "output_type": "execute_result",
          "data": {
            "text/html": [
              "\n",
              "  <div id=\"df-4851e6ce-e47e-4d6e-8ee4-7fe19da1e9bb\">\n",
              "    <div class=\"colab-df-container\">\n",
              "      <div>\n",
              "<style scoped>\n",
              "    .dataframe tbody tr th:only-of-type {\n",
              "        vertical-align: middle;\n",
              "    }\n",
              "\n",
              "    .dataframe tbody tr th {\n",
              "        vertical-align: top;\n",
              "    }\n",
              "\n",
              "    .dataframe thead th {\n",
              "        text-align: right;\n",
              "    }\n",
              "</style>\n",
              "<table border=\"1\" class=\"dataframe\">\n",
              "  <thead>\n",
              "    <tr style=\"text-align: right;\">\n",
              "      <th></th>\n",
              "      <th>imdb_title_id</th>\n",
              "      <th>title</th>\n",
              "      <th>original_title</th>\n",
              "      <th>year</th>\n",
              "      <th>date_published</th>\n",
              "      <th>genre</th>\n",
              "      <th>duration_x</th>\n",
              "      <th>country_x</th>\n",
              "      <th>language</th>\n",
              "      <th>director_x</th>\n",
              "      <th>writer</th>\n",
              "      <th>production_company</th>\n",
              "      <th>actors</th>\n",
              "      <th>description_x</th>\n",
              "      <th>avg_vote</th>\n",
              "      <th>votes</th>\n",
              "      <th>budget</th>\n",
              "      <th>usa_gross_income</th>\n",
              "      <th>worlwide_gross_income</th>\n",
              "      <th>metascore</th>\n",
              "      <th>reviews_from_users</th>\n",
              "      <th>reviews_from_critics</th>\n",
              "      <th>show_id</th>\n",
              "      <th>type</th>\n",
              "      <th>director_y</th>\n",
              "      <th>cast</th>\n",
              "      <th>country_y</th>\n",
              "      <th>date_added</th>\n",
              "      <th>release_year</th>\n",
              "      <th>rating</th>\n",
              "      <th>duration_y</th>\n",
              "      <th>listed_in</th>\n",
              "      <th>description_y</th>\n",
              "    </tr>\n",
              "  </thead>\n",
              "  <tbody>\n",
              "    <tr>\n",
              "      <th>0</th>\n",
              "      <td>tt0007338</td>\n",
              "      <td>Sherlock Holmes</td>\n",
              "      <td>Sherlock Holmes</td>\n",
              "      <td>1916</td>\n",
              "      <td>1916-05-15</td>\n",
              "      <td>Mystery</td>\n",
              "      <td>116</td>\n",
              "      <td>USA</td>\n",
              "      <td>English</td>\n",
              "      <td>Arthur Berthelet</td>\n",
              "      <td>H.S. Sheldon, William Gillette</td>\n",
              "      <td>The Essanay Film Manufacturing Company</td>\n",
              "      <td>William Gillette, Marjorie Kay, Ernest Maupain...</td>\n",
              "      <td>When a couple of swindlers hold young Alice Fa...</td>\n",
              "      <td>6.4</td>\n",
              "      <td>313</td>\n",
              "      <td>NaN</td>\n",
              "      <td>NaN</td>\n",
              "      <td>NaN</td>\n",
              "      <td>NaN</td>\n",
              "      <td>10.0</td>\n",
              "      <td>16.0</td>\n",
              "      <td>s8004</td>\n",
              "      <td>Movie</td>\n",
              "      <td>Guy Ritchie</td>\n",
              "      <td>Robert Downey Jr., Jude Law, Rachel McAdams, M...</td>\n",
              "      <td>United States, Germany, United Kingdom, Australia</td>\n",
              "      <td>January 1, 2021</td>\n",
              "      <td>2009</td>\n",
              "      <td>PG-13</td>\n",
              "      <td>128 min</td>\n",
              "      <td>Action &amp; Adventure, Comedies</td>\n",
              "      <td>The game is afoot for an eccentric detective w...</td>\n",
              "    </tr>\n",
              "    <tr>\n",
              "      <th>1</th>\n",
              "      <td>tt0013597</td>\n",
              "      <td>Sherlock Holmes</td>\n",
              "      <td>Sherlock Holmes</td>\n",
              "      <td>1922</td>\n",
              "      <td>1922-03-07</td>\n",
              "      <td>Drama, Mystery</td>\n",
              "      <td>85</td>\n",
              "      <td>USA</td>\n",
              "      <td>English</td>\n",
              "      <td>Albert Parker</td>\n",
              "      <td>Earle Browne, Arthur Conan Doyle</td>\n",
              "      <td>Goldwyn Pictures Corporation</td>\n",
              "      <td>John Barrymore, Roland Young, Carol Dempster, ...</td>\n",
              "      <td>A young Sherlock Holmes seeks to bring down th...</td>\n",
              "      <td>5.8</td>\n",
              "      <td>551</td>\n",
              "      <td>NaN</td>\n",
              "      <td>$ 384770</td>\n",
              "      <td>NaN</td>\n",
              "      <td>NaN</td>\n",
              "      <td>18.0</td>\n",
              "      <td>15.0</td>\n",
              "      <td>s8004</td>\n",
              "      <td>Movie</td>\n",
              "      <td>Guy Ritchie</td>\n",
              "      <td>Robert Downey Jr., Jude Law, Rachel McAdams, M...</td>\n",
              "      <td>United States, Germany, United Kingdom, Australia</td>\n",
              "      <td>January 1, 2021</td>\n",
              "      <td>2009</td>\n",
              "      <td>PG-13</td>\n",
              "      <td>128 min</td>\n",
              "      <td>Action &amp; Adventure, Comedies</td>\n",
              "      <td>The game is afoot for an eccentric detective w...</td>\n",
              "    </tr>\n",
              "  </tbody>\n",
              "</table>\n",
              "</div>\n",
              "      <button class=\"colab-df-convert\" onclick=\"convertToInteractive('df-4851e6ce-e47e-4d6e-8ee4-7fe19da1e9bb')\"\n",
              "              title=\"Convert this dataframe to an interactive table.\"\n",
              "              style=\"display:none;\">\n",
              "        \n",
              "  <svg xmlns=\"http://www.w3.org/2000/svg\" height=\"24px\"viewBox=\"0 0 24 24\"\n",
              "       width=\"24px\">\n",
              "    <path d=\"M0 0h24v24H0V0z\" fill=\"none\"/>\n",
              "    <path d=\"M18.56 5.44l.94 2.06.94-2.06 2.06-.94-2.06-.94-.94-2.06-.94 2.06-2.06.94zm-11 1L8.5 8.5l.94-2.06 2.06-.94-2.06-.94L8.5 2.5l-.94 2.06-2.06.94zm10 10l.94 2.06.94-2.06 2.06-.94-2.06-.94-.94-2.06-.94 2.06-2.06.94z\"/><path d=\"M17.41 7.96l-1.37-1.37c-.4-.4-.92-.59-1.43-.59-.52 0-1.04.2-1.43.59L10.3 9.45l-7.72 7.72c-.78.78-.78 2.05 0 2.83L4 21.41c.39.39.9.59 1.41.59.51 0 1.02-.2 1.41-.59l7.78-7.78 2.81-2.81c.8-.78.8-2.07 0-2.86zM5.41 20L4 18.59l7.72-7.72 1.47 1.35L5.41 20z\"/>\n",
              "  </svg>\n",
              "      </button>\n",
              "      \n",
              "  <style>\n",
              "    .colab-df-container {\n",
              "      display:flex;\n",
              "      flex-wrap:wrap;\n",
              "      gap: 12px;\n",
              "    }\n",
              "\n",
              "    .colab-df-convert {\n",
              "      background-color: #E8F0FE;\n",
              "      border: none;\n",
              "      border-radius: 50%;\n",
              "      cursor: pointer;\n",
              "      display: none;\n",
              "      fill: #1967D2;\n",
              "      height: 32px;\n",
              "      padding: 0 0 0 0;\n",
              "      width: 32px;\n",
              "    }\n",
              "\n",
              "    .colab-df-convert:hover {\n",
              "      background-color: #E2EBFA;\n",
              "      box-shadow: 0px 1px 2px rgba(60, 64, 67, 0.3), 0px 1px 3px 1px rgba(60, 64, 67, 0.15);\n",
              "      fill: #174EA6;\n",
              "    }\n",
              "\n",
              "    [theme=dark] .colab-df-convert {\n",
              "      background-color: #3B4455;\n",
              "      fill: #D2E3FC;\n",
              "    }\n",
              "\n",
              "    [theme=dark] .colab-df-convert:hover {\n",
              "      background-color: #434B5C;\n",
              "      box-shadow: 0px 1px 3px 1px rgba(0, 0, 0, 0.15);\n",
              "      filter: drop-shadow(0px 1px 2px rgba(0, 0, 0, 0.3));\n",
              "      fill: #FFFFFF;\n",
              "    }\n",
              "  </style>\n",
              "\n",
              "      <script>\n",
              "        const buttonEl =\n",
              "          document.querySelector('#df-4851e6ce-e47e-4d6e-8ee4-7fe19da1e9bb button.colab-df-convert');\n",
              "        buttonEl.style.display =\n",
              "          google.colab.kernel.accessAllowed ? 'block' : 'none';\n",
              "\n",
              "        async function convertToInteractive(key) {\n",
              "          const element = document.querySelector('#df-4851e6ce-e47e-4d6e-8ee4-7fe19da1e9bb');\n",
              "          const dataTable =\n",
              "            await google.colab.kernel.invokeFunction('convertToInteractive',\n",
              "                                                     [key], {});\n",
              "          if (!dataTable) return;\n",
              "\n",
              "          const docLinkHtml = 'Like what you see? Visit the ' +\n",
              "            '<a target=\"_blank\" href=https://colab.research.google.com/notebooks/data_table.ipynb>data table notebook</a>'\n",
              "            + ' to learn more about interactive tables.';\n",
              "          element.innerHTML = '';\n",
              "          dataTable['output_type'] = 'display_data';\n",
              "          await google.colab.output.renderOutput(dataTable, element);\n",
              "          const docLink = document.createElement('div');\n",
              "          docLink.innerHTML = docLinkHtml;\n",
              "          element.appendChild(docLink);\n",
              "        }\n",
              "      </script>\n",
              "    </div>\n",
              "  </div>\n",
              "  "
            ],
            "text/plain": [
              "  imdb_title_id  ...                                      description_y\n",
              "0     tt0007338  ...  The game is afoot for an eccentric detective w...\n",
              "1     tt0013597  ...  The game is afoot for an eccentric detective w...\n",
              "\n",
              "[2 rows x 33 columns]"
            ]
          },
          "metadata": {},
          "execution_count": 7
        }
      ],
      "source": [
        "result = pd.merge(left=dfI, right=dfN, left_on='title', right_on='title')\n",
        "result.head(2)"
      ]
    },
    {
      "cell_type": "code",
      "execution_count": null,
      "metadata": {
        "colab": {
          "base_uri": "https://localhost:8080/"
        },
        "id": "idr-0Y0d31xT",
        "outputId": "effacdee-eaf3-468e-8383-1564f3ae3e16"
      },
      "outputs": [
        {
          "output_type": "stream",
          "name": "stdout",
          "text": [
            "Hay 2960 filas y 33 columnas en nuestro conjunto de datos resultante, que obtuvimos fusionando el conjunto de datos de IMDb y Netflix por su título de película.\n"
          ]
        }
      ],
      "source": [
        "numberofrows_3, numberofcolumns_3 = result.shape\n",
        "print(\"Hay {} filas y {} columnas\".format(numberofrows_3, numberofcolumns_3)+\" en nuestro conjunto de datos resultante, que obtuvimos fusionando el conjunto de datos de IMDb y Netflix por su título de película.\")"
      ]
    },
    {
      "cell_type": "markdown",
      "metadata": {
        "id": "lLCIu8fu30Mv"
      },
      "source": [
        "Hay 2960 filas y 33 columnas en nuestro conjunto de datos resultante, que obtuvimos fusionando el conjunto de datos de IMDb y Netflix por su título de película."
      ]
    },
    {
      "cell_type": "markdown",
      "metadata": {
        "id": "GmeBPd86IIJp"
      },
      "source": [
        "# **3. Pre procesamiento de datos**"
      ]
    },
    {
      "cell_type": "markdown",
      "metadata": {
        "id": "PXJLCZWqIPDs"
      },
      "source": [
        "## **3.1 Limpieza de texto**\n"
      ]
    },
    {
      "cell_type": "markdown",
      "metadata": {
        "id": "f9pLWOJR40se"
      },
      "source": [
        "Antes de construir nuestro modelo, también necesitamos limpiar nuestro conjunto de datos. La limpieza del conjunto de datos implica formatear correctamente nuestro conjunto de datos.\n"
      ]
    },
    {
      "cell_type": "code",
      "execution_count": null,
      "metadata": {
        "colab": {
          "base_uri": "https://localhost:8080/"
        },
        "id": "UJWQnX3y5bMm",
        "outputId": "d6da2573-9ee6-452e-ecac-3e4f2b535572"
      },
      "outputs": [
        {
          "output_type": "execute_result",
          "data": {
            "text/plain": [
              "2376"
            ]
          },
          "metadata": {},
          "execution_count": 9
        }
      ],
      "source": [
        "#Valores duplicados\n",
        "len(np.unique(result.title))"
      ]
    },
    {
      "cell_type": "markdown",
      "metadata": {
        "id": "FjJ_yXUl5yMg"
      },
      "source": [
        "Podemos ver claramente que hay algunas películas duplicadas porque hay 2376 líneas en nuestros datos resultantes pero el número de títulos únicos es de 1798. Por lo tanto, tomaremos la primera ocurrencia de esa película y dejaremos de lado las otras que son iguales por el título de la película."
      ]
    },
    {
      "cell_type": "code",
      "execution_count": null,
      "metadata": {
        "colab": {
          "base_uri": "https://localhost:8080/",
          "height": 686
        },
        "id": "dDSKO2Bp5bGJ",
        "outputId": "898e0e37-88fe-4cb2-dcfe-14b0c627c791"
      },
      "outputs": [
        {
          "output_type": "execute_result",
          "data": {
            "text/html": [
              "\n",
              "  <div id=\"df-8fe62d21-2684-481e-a68b-c56735eed3c6\">\n",
              "    <div class=\"colab-df-container\">\n",
              "      <div>\n",
              "<style scoped>\n",
              "    .dataframe tbody tr th:only-of-type {\n",
              "        vertical-align: middle;\n",
              "    }\n",
              "\n",
              "    .dataframe tbody tr th {\n",
              "        vertical-align: top;\n",
              "    }\n",
              "\n",
              "    .dataframe thead th {\n",
              "        text-align: right;\n",
              "    }\n",
              "</style>\n",
              "<table border=\"1\" class=\"dataframe\">\n",
              "  <thead>\n",
              "    <tr style=\"text-align: right;\">\n",
              "      <th></th>\n",
              "      <th>imdb_title_id</th>\n",
              "      <th>title</th>\n",
              "      <th>original_title</th>\n",
              "      <th>year</th>\n",
              "      <th>date_published</th>\n",
              "      <th>genre</th>\n",
              "      <th>duration_x</th>\n",
              "      <th>country_x</th>\n",
              "      <th>language</th>\n",
              "      <th>director_x</th>\n",
              "      <th>writer</th>\n",
              "      <th>production_company</th>\n",
              "      <th>actors</th>\n",
              "      <th>description_x</th>\n",
              "      <th>avg_vote</th>\n",
              "      <th>votes</th>\n",
              "      <th>budget</th>\n",
              "      <th>usa_gross_income</th>\n",
              "      <th>worlwide_gross_income</th>\n",
              "      <th>metascore</th>\n",
              "      <th>reviews_from_users</th>\n",
              "      <th>reviews_from_critics</th>\n",
              "      <th>show_id</th>\n",
              "      <th>type</th>\n",
              "      <th>director_y</th>\n",
              "      <th>cast</th>\n",
              "      <th>country_y</th>\n",
              "      <th>date_added</th>\n",
              "      <th>release_year</th>\n",
              "      <th>rating</th>\n",
              "      <th>duration_y</th>\n",
              "      <th>listed_in</th>\n",
              "      <th>description_y</th>\n",
              "    </tr>\n",
              "  </thead>\n",
              "  <tbody>\n",
              "    <tr>\n",
              "      <th>0</th>\n",
              "      <td>tt0007338</td>\n",
              "      <td>Sherlock Holmes</td>\n",
              "      <td>Sherlock Holmes</td>\n",
              "      <td>1916</td>\n",
              "      <td>1916-05-15</td>\n",
              "      <td>Mystery</td>\n",
              "      <td>116</td>\n",
              "      <td>USA</td>\n",
              "      <td>English</td>\n",
              "      <td>Arthur Berthelet</td>\n",
              "      <td>H.S. Sheldon, William Gillette</td>\n",
              "      <td>The Essanay Film Manufacturing Company</td>\n",
              "      <td>William Gillette, Marjorie Kay, Ernest Maupain...</td>\n",
              "      <td>When a couple of swindlers hold young Alice Fa...</td>\n",
              "      <td>6.4</td>\n",
              "      <td>313</td>\n",
              "      <td>NaN</td>\n",
              "      <td>NaN</td>\n",
              "      <td>NaN</td>\n",
              "      <td>NaN</td>\n",
              "      <td>10.0</td>\n",
              "      <td>16.0</td>\n",
              "      <td>s8004</td>\n",
              "      <td>Movie</td>\n",
              "      <td>Guy Ritchie</td>\n",
              "      <td>Robert Downey Jr., Jude Law, Rachel McAdams, M...</td>\n",
              "      <td>United States, Germany, United Kingdom, Australia</td>\n",
              "      <td>January 1, 2021</td>\n",
              "      <td>2009</td>\n",
              "      <td>PG-13</td>\n",
              "      <td>128 min</td>\n",
              "      <td>Action &amp; Adventure, Comedies</td>\n",
              "      <td>The game is afoot for an eccentric detective w...</td>\n",
              "    </tr>\n",
              "    <tr>\n",
              "      <th>5</th>\n",
              "      <td>tt0012382</td>\n",
              "      <td>Leap Year</td>\n",
              "      <td>Leap Year</td>\n",
              "      <td>1924</td>\n",
              "      <td>1924-01-11</td>\n",
              "      <td>Comedy</td>\n",
              "      <td>56</td>\n",
              "      <td>USA</td>\n",
              "      <td>English</td>\n",
              "      <td>James Cruze, Roscoe 'Fatty' Arbuckle</td>\n",
              "      <td>Walter Woods, Sarah Y. Mason</td>\n",
              "      <td>Paramount Pictures</td>\n",
              "      <td>Roscoe 'Fatty' Arbuckle, Lucien Littlefield, M...</td>\n",
              "      <td>A young man, heir to his misogynistic and mill...</td>\n",
              "      <td>6.1</td>\n",
              "      <td>268</td>\n",
              "      <td>NaN</td>\n",
              "      <td>NaN</td>\n",
              "      <td>NaN</td>\n",
              "      <td>NaN</td>\n",
              "      <td>9.0</td>\n",
              "      <td>1.0</td>\n",
              "      <td>s7275</td>\n",
              "      <td>Movie</td>\n",
              "      <td>Anand Tucker</td>\n",
              "      <td>Amy Adams, Matthew Goode, Adam Scott, John Lit...</td>\n",
              "      <td>United States, Ireland</td>\n",
              "      <td>November 15, 2019</td>\n",
              "      <td>2010</td>\n",
              "      <td>PG</td>\n",
              "      <td>100 min</td>\n",
              "      <td>Comedies, Romantic Movies</td>\n",
              "      <td>Anna chooses February 29 to propose marriage t...</td>\n",
              "    </tr>\n",
              "    <tr>\n",
              "      <th>6</th>\n",
              "      <td>tt0013590</td>\n",
              "      <td>The Seventh Day</td>\n",
              "      <td>The Seventh Day</td>\n",
              "      <td>1922</td>\n",
              "      <td>1922-02-06</td>\n",
              "      <td>Drama, Romance</td>\n",
              "      <td>60</td>\n",
              "      <td>USA</td>\n",
              "      <td>NaN</td>\n",
              "      <td>Henry King</td>\n",
              "      <td>Porter Emerson Browne, Edmund Goulding</td>\n",
              "      <td>Inspiration Pictures</td>\n",
              "      <td>Richard Barthelmess, Frank Losee, Leslie Stowe...</td>\n",
              "      <td>A group of New York society folk on a yachting...</td>\n",
              "      <td>5.9</td>\n",
              "      <td>101</td>\n",
              "      <td>NaN</td>\n",
              "      <td>NaN</td>\n",
              "      <td>NaN</td>\n",
              "      <td>NaN</td>\n",
              "      <td>3.0</td>\n",
              "      <td>NaN</td>\n",
              "      <td>s644</td>\n",
              "      <td>Movie</td>\n",
              "      <td>Justin P. Lange</td>\n",
              "      <td>Guy Pearce, Vadhir Derbez, Stephen Lang, Brady...</td>\n",
              "      <td>United States</td>\n",
              "      <td>June 24, 2021</td>\n",
              "      <td>2021</td>\n",
              "      <td>R</td>\n",
              "      <td>87 min</td>\n",
              "      <td>Horror Movies</td>\n",
              "      <td>An inexperienced priest teams up with a harden...</td>\n",
              "    </tr>\n",
              "    <tr>\n",
              "      <th>7</th>\n",
              "      <td>tt0013704</td>\n",
              "      <td>The Trap</td>\n",
              "      <td>The Trap</td>\n",
              "      <td>1922</td>\n",
              "      <td>1922-05-09</td>\n",
              "      <td>Drama</td>\n",
              "      <td>60</td>\n",
              "      <td>USA</td>\n",
              "      <td>English</td>\n",
              "      <td>Robert Thornby</td>\n",
              "      <td>Lon Chaney, Lucien Hubbard</td>\n",
              "      <td>Universal Film Manufacturing Company</td>\n",
              "      <td>Lon Chaney, Alan Hale, Dagmar Godowsky, Stanle...</td>\n",
              "      <td>A miner's happiness is destroyed when a rival ...</td>\n",
              "      <td>6.0</td>\n",
              "      <td>118</td>\n",
              "      <td>NaN</td>\n",
              "      <td>NaN</td>\n",
              "      <td>NaN</td>\n",
              "      <td>NaN</td>\n",
              "      <td>10.0</td>\n",
              "      <td>3.0</td>\n",
              "      <td>s3958</td>\n",
              "      <td>Movie</td>\n",
              "      <td>Erik White</td>\n",
              "      <td>T.I., Mike Epps, Loretta Devine, Queen Latifah...</td>\n",
              "      <td>United States</td>\n",
              "      <td>April 1, 2019</td>\n",
              "      <td>2017</td>\n",
              "      <td>TV-MA</td>\n",
              "      <td>91 min</td>\n",
              "      <td>Comedies</td>\n",
              "      <td>A man returns home to Atlanta to try and turn ...</td>\n",
              "    </tr>\n",
              "    <tr>\n",
              "      <th>10</th>\n",
              "      <td>tt0015136</td>\n",
              "      <td>Michael</td>\n",
              "      <td>Michael</td>\n",
              "      <td>1924</td>\n",
              "      <td>1924-11-17</td>\n",
              "      <td>Drama, Romance</td>\n",
              "      <td>93</td>\n",
              "      <td>Germany</td>\n",
              "      <td>NaN</td>\n",
              "      <td>Carl Theodor Dreyer</td>\n",
              "      <td>Herman Bang, Thea von Harbou</td>\n",
              "      <td>Universum Film (UFA)</td>\n",
              "      <td>Walter Slezak, Benjamin Christensen, Nora Greg...</td>\n",
              "      <td>Triangle story: painter, his young male model,...</td>\n",
              "      <td>7.1</td>\n",
              "      <td>1540</td>\n",
              "      <td>NaN</td>\n",
              "      <td>NaN</td>\n",
              "      <td>NaN</td>\n",
              "      <td>NaN</td>\n",
              "      <td>22.0</td>\n",
              "      <td>27.0</td>\n",
              "      <td>s2280</td>\n",
              "      <td>Movie</td>\n",
              "      <td>Ribhu Dasgupta</td>\n",
              "      <td>Naseeruddin Shah, Mahie Gill, Sabyasachi Chakr...</td>\n",
              "      <td>India</td>\n",
              "      <td>July 5, 2020</td>\n",
              "      <td>2011</td>\n",
              "      <td>TV-MA</td>\n",
              "      <td>86 min</td>\n",
              "      <td>Dramas, Independent Movies, International Movies</td>\n",
              "      <td>After a dedicated cop accidentally kills a 12-...</td>\n",
              "    </tr>\n",
              "  </tbody>\n",
              "</table>\n",
              "</div>\n",
              "      <button class=\"colab-df-convert\" onclick=\"convertToInteractive('df-8fe62d21-2684-481e-a68b-c56735eed3c6')\"\n",
              "              title=\"Convert this dataframe to an interactive table.\"\n",
              "              style=\"display:none;\">\n",
              "        \n",
              "  <svg xmlns=\"http://www.w3.org/2000/svg\" height=\"24px\"viewBox=\"0 0 24 24\"\n",
              "       width=\"24px\">\n",
              "    <path d=\"M0 0h24v24H0V0z\" fill=\"none\"/>\n",
              "    <path d=\"M18.56 5.44l.94 2.06.94-2.06 2.06-.94-2.06-.94-.94-2.06-.94 2.06-2.06.94zm-11 1L8.5 8.5l.94-2.06 2.06-.94-2.06-.94L8.5 2.5l-.94 2.06-2.06.94zm10 10l.94 2.06.94-2.06 2.06-.94-2.06-.94-.94-2.06-.94 2.06-2.06.94z\"/><path d=\"M17.41 7.96l-1.37-1.37c-.4-.4-.92-.59-1.43-.59-.52 0-1.04.2-1.43.59L10.3 9.45l-7.72 7.72c-.78.78-.78 2.05 0 2.83L4 21.41c.39.39.9.59 1.41.59.51 0 1.02-.2 1.41-.59l7.78-7.78 2.81-2.81c.8-.78.8-2.07 0-2.86zM5.41 20L4 18.59l7.72-7.72 1.47 1.35L5.41 20z\"/>\n",
              "  </svg>\n",
              "      </button>\n",
              "      \n",
              "  <style>\n",
              "    .colab-df-container {\n",
              "      display:flex;\n",
              "      flex-wrap:wrap;\n",
              "      gap: 12px;\n",
              "    }\n",
              "\n",
              "    .colab-df-convert {\n",
              "      background-color: #E8F0FE;\n",
              "      border: none;\n",
              "      border-radius: 50%;\n",
              "      cursor: pointer;\n",
              "      display: none;\n",
              "      fill: #1967D2;\n",
              "      height: 32px;\n",
              "      padding: 0 0 0 0;\n",
              "      width: 32px;\n",
              "    }\n",
              "\n",
              "    .colab-df-convert:hover {\n",
              "      background-color: #E2EBFA;\n",
              "      box-shadow: 0px 1px 2px rgba(60, 64, 67, 0.3), 0px 1px 3px 1px rgba(60, 64, 67, 0.15);\n",
              "      fill: #174EA6;\n",
              "    }\n",
              "\n",
              "    [theme=dark] .colab-df-convert {\n",
              "      background-color: #3B4455;\n",
              "      fill: #D2E3FC;\n",
              "    }\n",
              "\n",
              "    [theme=dark] .colab-df-convert:hover {\n",
              "      background-color: #434B5C;\n",
              "      box-shadow: 0px 1px 3px 1px rgba(0, 0, 0, 0.15);\n",
              "      filter: drop-shadow(0px 1px 2px rgba(0, 0, 0, 0.3));\n",
              "      fill: #FFFFFF;\n",
              "    }\n",
              "  </style>\n",
              "\n",
              "      <script>\n",
              "        const buttonEl =\n",
              "          document.querySelector('#df-8fe62d21-2684-481e-a68b-c56735eed3c6 button.colab-df-convert');\n",
              "        buttonEl.style.display =\n",
              "          google.colab.kernel.accessAllowed ? 'block' : 'none';\n",
              "\n",
              "        async function convertToInteractive(key) {\n",
              "          const element = document.querySelector('#df-8fe62d21-2684-481e-a68b-c56735eed3c6');\n",
              "          const dataTable =\n",
              "            await google.colab.kernel.invokeFunction('convertToInteractive',\n",
              "                                                     [key], {});\n",
              "          if (!dataTable) return;\n",
              "\n",
              "          const docLinkHtml = 'Like what you see? Visit the ' +\n",
              "            '<a target=\"_blank\" href=https://colab.research.google.com/notebooks/data_table.ipynb>data table notebook</a>'\n",
              "            + ' to learn more about interactive tables.';\n",
              "          element.innerHTML = '';\n",
              "          dataTable['output_type'] = 'display_data';\n",
              "          await google.colab.output.renderOutput(dataTable, element);\n",
              "          const docLink = document.createElement('div');\n",
              "          docLink.innerHTML = docLinkHtml;\n",
              "          element.appendChild(docLink);\n",
              "        }\n",
              "      </script>\n",
              "    </div>\n",
              "  </div>\n",
              "  "
            ],
            "text/plain": [
              "   imdb_title_id  ...                                      description_y\n",
              "0      tt0007338  ...  The game is afoot for an eccentric detective w...\n",
              "5      tt0012382  ...  Anna chooses February 29 to propose marriage t...\n",
              "6      tt0013590  ...  An inexperienced priest teams up with a harden...\n",
              "7      tt0013704  ...  A man returns home to Atlanta to try and turn ...\n",
              "10     tt0015136  ...  After a dedicated cop accidentally kills a 12-...\n",
              "\n",
              "[5 rows x 33 columns]"
            ]
          },
          "metadata": {},
          "execution_count": 10
        }
      ],
      "source": [
        "#Eliminamos los valores duplicados\n",
        "result.drop_duplicates(subset=\"title\", keep='first', inplace=True)\n",
        "result.head()"
      ]
    },
    {
      "cell_type": "code",
      "execution_count": null,
      "metadata": {
        "colab": {
          "base_uri": "https://localhost:8080/",
          "height": 35
        },
        "id": "sBN1RJA75bAv",
        "outputId": "815464c8-454b-4166-85e4-660fb1ec0c72"
      },
      "outputs": [
        {
          "output_type": "execute_result",
          "data": {
            "application/vnd.google.colaboratory.intrinsic+json": {
              "type": "string"
            },
            "text/plain": [
              "'0'"
            ]
          },
          "metadata": {},
          "execution_count": 11
        }
      ],
      "source": [
        "anyduplicates=result.duplicated([\"title\"])\n",
        "howmanydups=sum(anyduplicates)\n",
        "format(howmanydups)"
      ]
    },
    {
      "cell_type": "markdown",
      "metadata": {
        "id": "2N8kBYpS6NPx"
      },
      "source": [
        "## **3.2 Tratamiento de los valores NaN**"
      ]
    },
    {
      "cell_type": "code",
      "execution_count": null,
      "metadata": {
        "colab": {
          "base_uri": "https://localhost:8080/"
        },
        "id": "hUH5nNDs5a7L",
        "outputId": "0366b3d3-da35-41a4-ddfa-ec303fce5303"
      },
      "outputs": [
        {
          "output_type": "execute_result",
          "data": {
            "text/plain": [
              "6763"
            ]
          },
          "metadata": {},
          "execution_count": 12
        }
      ],
      "source": [
        "#Valores nulos\n",
        "result.isnull().sum().sum()"
      ]
    },
    {
      "cell_type": "code",
      "execution_count": null,
      "metadata": {
        "colab": {
          "base_uri": "https://localhost:8080/",
          "height": 576
        },
        "id": "GzkUe59D5a1E",
        "outputId": "279bb514-aa0b-49d2-8aec-d874914722f6"
      },
      "outputs": [
        {
          "output_type": "execute_result",
          "data": {
            "text/plain": [
              "<matplotlib.axes._subplots.AxesSubplot at 0x7f11a2a80f90>"
            ]
          },
          "metadata": {},
          "execution_count": 13
        },
        {
          "output_type": "display_data",
          "data": {
            "image/png": "[encoded data removed]",
            "text/plain": [
              "<Figure size 1800x720 with 2 Axes>"
            ]
          },
          "metadata": {
            "needs_background": "light"
          }
        }
      ],
      "source": [
        "import missingno as msno\n",
        "%matplotlib inline\n",
        "msno.matrix(result)"
      ]
    },
    {
      "cell_type": "code",
      "execution_count": null,
      "metadata": {
        "colab": {
          "base_uri": "https://localhost:8080/"
        },
        "id": "keINmp1T5awN",
        "outputId": "5f25d160-89ad-459b-e95b-59cd67af4ca3"
      },
      "outputs": [
        {
          "output_type": "stream",
          "name": "stdout",
          "text": [
            "Número de valores perdidos por columnas:\n"
          ]
        },
        {
          "output_type": "execute_result",
          "data": {
            "text/plain": [
              "imdb_title_id               0\n",
              "title                       0\n",
              "original_title              0\n",
              "year                        0\n",
              "date_published              0\n",
              "genre                       0\n",
              "duration_x                  0\n",
              "country_x                   5\n",
              "language                   27\n",
              "director_x                  0\n",
              "writer                     50\n",
              "production_company         89\n",
              "actors                      0\n",
              "description_x              11\n",
              "avg_vote                    0\n",
              "votes                       0\n",
              "budget                   1577\n",
              "usa_gross_income         1655\n",
              "worlwide_gross_income    1154\n",
              "metascore                1613\n",
              "reviews_from_users         59\n",
              "reviews_from_critics      205\n",
              "show_id                     0\n",
              "type                        0\n",
              "director_y                222\n",
              "cast                       39\n",
              "country_y                  55\n",
              "date_added                  1\n",
              "release_year                0\n",
              "rating                      1\n",
              "duration_y                  0\n",
              "listed_in                   0\n",
              "description_y               0\n",
              "dtype: int64"
            ]
          },
          "metadata": {},
          "execution_count": 14
        }
      ],
      "source": [
        "print('Número de valores perdidos por columnas:') \n",
        "result.isnull().sum()"
      ]
    },
    {
      "cell_type": "markdown",
      "metadata": {
        "id": "4KDdS8mS6pPO"
      },
      "source": [
        "Si hay más de 800 valores que faltan, consideramos la posibilidad de suprimirlos"
      ]
    },
    {
      "cell_type": "code",
      "execution_count": null,
      "metadata": {
        "colab": {
          "base_uri": "https://localhost:8080/"
        },
        "id": "TxTXOsZk5ar7",
        "outputId": "8a1a086d-4e3a-4498-b75e-fcd313436adb"
      },
      "outputs": [
        {
          "output_type": "stream",
          "name": "stdout",
          "text": [
            "['budget', 'usa_gross_income', 'worlwide_gross_income', 'metascore']\n"
          ]
        }
      ],
      "source": [
        "mostNAdrop = result.loc[:,(result.isna().sum()>800)].columns.tolist()\n",
        "print(mostNAdrop)"
      ]
    },
    {
      "cell_type": "code",
      "execution_count": null,
      "metadata": {
        "id": "G8vGUiCK5anU"
      },
      "outputs": [],
      "source": [
        "#Tratar cada valor faltante como no disponible\n",
        "result.director_x.fillna(\"No Director\", inplace=True)\n",
        "result.cast.fillna(\"No Cast\", inplace=True)\n",
        "result.country_x.fillna(\"Country Unavailable\", inplace=True)\n",
        "result.dropna(subset=[\"avg_vote\",\"language\"], inplace=True)\n",
        "result.description_x.fillna(\"No Description\", inplace=True)\n",
        "result.budget.fillna(\"No Budget\", inplace=True)\n",
        "result.rating.fillna(\"No Rating\", inplace=True)"
      ]
    },
    {
      "cell_type": "markdown",
      "metadata": {
        "id": "Qv-QMsfE7tl5"
      },
      "source": [
        "Ahora, vamos a dejar algunas de las columnas más valoradas que faltan, las columnas repetidas y también las columnas que no vamos a utilizar."
      ]
    },
    {
      "cell_type": "code",
      "execution_count": null,
      "metadata": {
        "colab": {
          "base_uri": "https://localhost:8080/",
          "height": 384
        },
        "id": "paCQuOXx5ajV",
        "outputId": "3526001d-d7db-441c-c78f-ddb8888fbe72"
      },
      "outputs": [
        {
          "output_type": "execute_result",
          "data": {
            "text/html": [
              "\n",
              "  <div id=\"df-cb361aa6-52ed-4ae5-ae1c-2f79ac1dbbdf\">\n",
              "    <div class=\"colab-df-container\">\n",
              "      <div>\n",
              "<style scoped>\n",
              "    .dataframe tbody tr th:only-of-type {\n",
              "        vertical-align: middle;\n",
              "    }\n",
              "\n",
              "    .dataframe tbody tr th {\n",
              "        vertical-align: top;\n",
              "    }\n",
              "\n",
              "    .dataframe thead th {\n",
              "        text-align: right;\n",
              "    }\n",
              "</style>\n",
              "<table border=\"1\" class=\"dataframe\">\n",
              "  <thead>\n",
              "    <tr style=\"text-align: right;\">\n",
              "      <th></th>\n",
              "      <th>imdb_title_id</th>\n",
              "      <th>title</th>\n",
              "      <th>duration_x</th>\n",
              "      <th>country_x</th>\n",
              "      <th>language</th>\n",
              "      <th>director_x</th>\n",
              "      <th>description_x</th>\n",
              "      <th>avg_vote</th>\n",
              "      <th>votes</th>\n",
              "      <th>budget</th>\n",
              "      <th>type</th>\n",
              "      <th>cast</th>\n",
              "      <th>release_year</th>\n",
              "      <th>rating</th>\n",
              "      <th>listed_in</th>\n",
              "    </tr>\n",
              "  </thead>\n",
              "  <tbody>\n",
              "    <tr>\n",
              "      <th>0</th>\n",
              "      <td>tt0007338</td>\n",
              "      <td>Sherlock Holmes</td>\n",
              "      <td>116</td>\n",
              "      <td>USA</td>\n",
              "      <td>English</td>\n",
              "      <td>Arthur Berthelet</td>\n",
              "      <td>When a couple of swindlers hold young Alice Fa...</td>\n",
              "      <td>6.4</td>\n",
              "      <td>313</td>\n",
              "      <td>No Budget</td>\n",
              "      <td>Movie</td>\n",
              "      <td>Robert Downey Jr., Jude Law, Rachel McAdams, M...</td>\n",
              "      <td>2009</td>\n",
              "      <td>PG-13</td>\n",
              "      <td>Action &amp; Adventure, Comedies</td>\n",
              "    </tr>\n",
              "    <tr>\n",
              "      <th>5</th>\n",
              "      <td>tt0012382</td>\n",
              "      <td>Leap Year</td>\n",
              "      <td>56</td>\n",
              "      <td>USA</td>\n",
              "      <td>English</td>\n",
              "      <td>James Cruze, Roscoe 'Fatty' Arbuckle</td>\n",
              "      <td>A young man, heir to his misogynistic and mill...</td>\n",
              "      <td>6.1</td>\n",
              "      <td>268</td>\n",
              "      <td>No Budget</td>\n",
              "      <td>Movie</td>\n",
              "      <td>Amy Adams, Matthew Goode, Adam Scott, John Lit...</td>\n",
              "      <td>2010</td>\n",
              "      <td>PG</td>\n",
              "      <td>Comedies, Romantic Movies</td>\n",
              "    </tr>\n",
              "  </tbody>\n",
              "</table>\n",
              "</div>\n",
              "      <button class=\"colab-df-convert\" onclick=\"convertToInteractive('df-cb361aa6-52ed-4ae5-ae1c-2f79ac1dbbdf')\"\n",
              "              title=\"Convert this dataframe to an interactive table.\"\n",
              "              style=\"display:none;\">\n",
              "        \n",
              "  <svg xmlns=\"http://www.w3.org/2000/svg\" height=\"24px\"viewBox=\"0 0 24 24\"\n",
              "       width=\"24px\">\n",
              "    <path d=\"M0 0h24v24H0V0z\" fill=\"none\"/>\n",
              "    <path d=\"M18.56 5.44l.94 2.06.94-2.06 2.06-.94-2.06-.94-.94-2.06-.94 2.06-2.06.94zm-11 1L8.5 8.5l.94-2.06 2.06-.94-2.06-.94L8.5 2.5l-.94 2.06-2.06.94zm10 10l.94 2.06.94-2.06 2.06-.94-2.06-.94-.94-2.06-.94 2.06-2.06.94z\"/><path d=\"M17.41 7.96l-1.37-1.37c-.4-.4-.92-.59-1.43-.59-.52 0-1.04.2-1.43.59L10.3 9.45l-7.72 7.72c-.78.78-.78 2.05 0 2.83L4 21.41c.39.39.9.59 1.41.59.51 0 1.02-.2 1.41-.59l7.78-7.78 2.81-2.81c.8-.78.8-2.07 0-2.86zM5.41 20L4 18.59l7.72-7.72 1.47 1.35L5.41 20z\"/>\n",
              "  </svg>\n",
              "      </button>\n",
              "      \n",
              "  <style>\n",
              "    .colab-df-container {\n",
              "      display:flex;\n",
              "      flex-wrap:wrap;\n",
              "      gap: 12px;\n",
              "    }\n",
              "\n",
              "    .colab-df-convert {\n",
              "      background-color: #E8F0FE;\n",
              "      border: none;\n",
              "      border-radius: 50%;\n",
              "      cursor: pointer;\n",
              "      display: none;\n",
              "      fill: #1967D2;\n",
              "      height: 32px;\n",
              "      padding: 0 0 0 0;\n",
              "      width: 32px;\n",
              "    }\n",
              "\n",
              "    .colab-df-convert:hover {\n",
              "      background-color: #E2EBFA;\n",
              "      box-shadow: 0px 1px 2px rgba(60, 64, 67, 0.3), 0px 1px 3px 1px rgba(60, 64, 67, 0.15);\n",
              "      fill: #174EA6;\n",
              "    }\n",
              "\n",
              "    [theme=dark] .colab-df-convert {\n",
              "      background-color: #3B4455;\n",
              "      fill: #D2E3FC;\n",
              "    }\n",
              "\n",
              "    [theme=dark] .colab-df-convert:hover {\n",
              "      background-color: #434B5C;\n",
              "      box-shadow: 0px 1px 3px 1px rgba(0, 0, 0, 0.15);\n",
              "      filter: drop-shadow(0px 1px 2px rgba(0, 0, 0, 0.3));\n",
              "      fill: #FFFFFF;\n",
              "    }\n",
              "  </style>\n",
              "\n",
              "      <script>\n",
              "        const buttonEl =\n",
              "          document.querySelector('#df-cb361aa6-52ed-4ae5-ae1c-2f79ac1dbbdf button.colab-df-convert');\n",
              "        buttonEl.style.display =\n",
              "          google.colab.kernel.accessAllowed ? 'block' : 'none';\n",
              "\n",
              "        async function convertToInteractive(key) {\n",
              "          const element = document.querySelector('#df-cb361aa6-52ed-4ae5-ae1c-2f79ac1dbbdf');\n",
              "          const dataTable =\n",
              "            await google.colab.kernel.invokeFunction('convertToInteractive',\n",
              "                                                     [key], {});\n",
              "          if (!dataTable) return;\n",
              "\n",
              "          const docLinkHtml = 'Like what you see? Visit the ' +\n",
              "            '<a target=\"_blank\" href=https://colab.research.google.com/notebooks/data_table.ipynb>data table notebook</a>'\n",
              "            + ' to learn more about interactive tables.';\n",
              "          element.innerHTML = '';\n",
              "          dataTable['output_type'] = 'display_data';\n",
              "          await google.colab.output.renderOutput(dataTable, element);\n",
              "          const docLink = document.createElement('div');\n",
              "          docLink.innerHTML = docLinkHtml;\n",
              "          element.appendChild(docLink);\n",
              "        }\n",
              "      </script>\n",
              "    </div>\n",
              "  </div>\n",
              "  "
            ],
            "text/plain": [
              "  imdb_title_id            title  ...  rating                     listed_in\n",
              "0     tt0007338  Sherlock Holmes  ...   PG-13  Action & Adventure, Comedies\n",
              "5     tt0012382        Leap Year  ...      PG     Comedies, Romantic Movies\n",
              "\n",
              "[2 rows x 15 columns]"
            ]
          },
          "metadata": {},
          "execution_count": 17
        }
      ],
      "source": [
        "result.drop([\"director_y\", \"country_y\",\"duration_y\",\"description_y\",\"original_title\",\"date_added\",\"year\",\"actors\",\"show_id\",\"writer\",\"usa_gross_income\",\"worlwide_gross_income\",\"metascore\",\"reviews_from_users\",\"reviews_from_critics\",\"production_company\",\"date_published\",\"genre\"], axis=1,inplace=True)\n",
        "result .head(2)"
      ]
    },
    {
      "cell_type": "markdown",
      "metadata": {
        "id": "ftCv7Bxv8CUH"
      },
      "source": [
        "## **3.3 Etiquetado de columnas**"
      ]
    },
    {
      "cell_type": "markdown",
      "metadata": {
        "id": "LGnQa_j-8u6u"
      },
      "source": [
        "Una vez que el Dataset esta limpio, se procede a renombrar las columnas para ver los datos de una mejor manera."
      ]
    },
    {
      "cell_type": "code",
      "execution_count": null,
      "metadata": {
        "colab": {
          "base_uri": "https://localhost:8080/",
          "height": 330
        },
        "id": "6VjdcqhP5afA",
        "outputId": "4dc9bd49-e991-4ab4-8f02-a6bc0e93944c"
      },
      "outputs": [
        {
          "output_type": "execute_result",
          "data": {
            "text/html": [
              "\n",
              "  <div id=\"df-d6c4d240-12cf-43a2-94f0-bd3f0f83b066\">\n",
              "    <div class=\"colab-df-container\">\n",
              "      <div>\n",
              "<style scoped>\n",
              "    .dataframe tbody tr th:only-of-type {\n",
              "        vertical-align: middle;\n",
              "    }\n",
              "\n",
              "    .dataframe tbody tr th {\n",
              "        vertical-align: top;\n",
              "    }\n",
              "\n",
              "    .dataframe thead th {\n",
              "        text-align: right;\n",
              "    }\n",
              "</style>\n",
              "<table border=\"1\" class=\"dataframe\">\n",
              "  <thead>\n",
              "    <tr style=\"text-align: right;\">\n",
              "      <th></th>\n",
              "      <th>IMDb Title ID</th>\n",
              "      <th>Title</th>\n",
              "      <th>Duration</th>\n",
              "      <th>Country</th>\n",
              "      <th>Language</th>\n",
              "      <th>Director</th>\n",
              "      <th>Description</th>\n",
              "      <th>IMDb Rating</th>\n",
              "      <th>Votes</th>\n",
              "      <th>Budget</th>\n",
              "      <th>Type</th>\n",
              "      <th>Cast</th>\n",
              "      <th>Year</th>\n",
              "      <th>Rating</th>\n",
              "      <th>Genre</th>\n",
              "    </tr>\n",
              "  </thead>\n",
              "  <tbody>\n",
              "    <tr>\n",
              "      <th>0</th>\n",
              "      <td>tt0007338</td>\n",
              "      <td>Sherlock Holmes</td>\n",
              "      <td>116</td>\n",
              "      <td>USA</td>\n",
              "      <td>English</td>\n",
              "      <td>Arthur Berthelet</td>\n",
              "      <td>When a couple of swindlers hold young Alice Fa...</td>\n",
              "      <td>6.4</td>\n",
              "      <td>313</td>\n",
              "      <td>No Budget</td>\n",
              "      <td>Movie</td>\n",
              "      <td>Robert Downey Jr., Jude Law, Rachel McAdams, M...</td>\n",
              "      <td>2009</td>\n",
              "      <td>PG-13</td>\n",
              "      <td>Action &amp; Adventure, Comedies</td>\n",
              "    </tr>\n",
              "    <tr>\n",
              "      <th>5</th>\n",
              "      <td>tt0012382</td>\n",
              "      <td>Leap Year</td>\n",
              "      <td>56</td>\n",
              "      <td>USA</td>\n",
              "      <td>English</td>\n",
              "      <td>James Cruze, Roscoe 'Fatty' Arbuckle</td>\n",
              "      <td>A young man, heir to his misogynistic and mill...</td>\n",
              "      <td>6.1</td>\n",
              "      <td>268</td>\n",
              "      <td>No Budget</td>\n",
              "      <td>Movie</td>\n",
              "      <td>Amy Adams, Matthew Goode, Adam Scott, John Lit...</td>\n",
              "      <td>2010</td>\n",
              "      <td>PG</td>\n",
              "      <td>Comedies, Romantic Movies</td>\n",
              "    </tr>\n",
              "  </tbody>\n",
              "</table>\n",
              "</div>\n",
              "      <button class=\"colab-df-convert\" onclick=\"convertToInteractive('df-d6c4d240-12cf-43a2-94f0-bd3f0f83b066')\"\n",
              "              title=\"Convert this dataframe to an interactive table.\"\n",
              "              style=\"display:none;\">\n",
              "        \n",
              "  <svg xmlns=\"http://www.w3.org/2000/svg\" height=\"24px\"viewBox=\"0 0 24 24\"\n",
              "       width=\"24px\">\n",
              "    <path d=\"M0 0h24v24H0V0z\" fill=\"none\"/>\n",
              "    <path d=\"M18.56 5.44l.94 2.06.94-2.06 2.06-.94-2.06-.94-.94-2.06-.94 2.06-2.06.94zm-11 1L8.5 8.5l.94-2.06 2.06-.94-2.06-.94L8.5 2.5l-.94 2.06-2.06.94zm10 10l.94 2.06.94-2.06 2.06-.94-2.06-.94-.94-2.06-.94 2.06-2.06.94z\"/><path d=\"M17.41 7.96l-1.37-1.37c-.4-.4-.92-.59-1.43-.59-.52 0-1.04.2-1.43.59L10.3 9.45l-7.72 7.72c-.78.78-.78 2.05 0 2.83L4 21.41c.39.39.9.59 1.41.59.51 0 1.02-.2 1.41-.59l7.78-7.78 2.81-2.81c.8-.78.8-2.07 0-2.86zM5.41 20L4 18.59l7.72-7.72 1.47 1.35L5.41 20z\"/>\n",
              "  </svg>\n",
              "      </button>\n",
              "      \n",
              "  <style>\n",
              "    .colab-df-container {\n",
              "      display:flex;\n",
              "      flex-wrap:wrap;\n",
              "      gap: 12px;\n",
              "    }\n",
              "\n",
              "    .colab-df-convert {\n",
              "      background-color: #E8F0FE;\n",
              "      border: none;\n",
              "      border-radius: 50%;\n",
              "      cursor: pointer;\n",
              "      display: none;\n",
              "      fill: #1967D2;\n",
              "      height: 32px;\n",
              "      padding: 0 0 0 0;\n",
              "      width: 32px;\n",
              "    }\n",
              "\n",
              "    .colab-df-convert:hover {\n",
              "      background-color: #E2EBFA;\n",
              "      box-shadow: 0px 1px 2px rgba(60, 64, 67, 0.3), 0px 1px 3px 1px rgba(60, 64, 67, 0.15);\n",
              "      fill: #174EA6;\n",
              "    }\n",
              "\n",
              "    [theme=dark] .colab-df-convert {\n",
              "      background-color: #3B4455;\n",
              "      fill: #D2E3FC;\n",
              "    }\n",
              "\n",
              "    [theme=dark] .colab-df-convert:hover {\n",
              "      background-color: #434B5C;\n",
              "      box-shadow: 0px 1px 3px 1px rgba(0, 0, 0, 0.15);\n",
              "      filter: drop-shadow(0px 1px 2px rgba(0, 0, 0, 0.3));\n",
              "      fill: #FFFFFF;\n",
              "    }\n",
              "  </style>\n",
              "\n",
              "      <script>\n",
              "        const buttonEl =\n",
              "          document.querySelector('#df-d6c4d240-12cf-43a2-94f0-bd3f0f83b066 button.colab-df-convert');\n",
              "        buttonEl.style.display =\n",
              "          google.colab.kernel.accessAllowed ? 'block' : 'none';\n",
              "\n",
              "        async function convertToInteractive(key) {\n",
              "          const element = document.querySelector('#df-d6c4d240-12cf-43a2-94f0-bd3f0f83b066');\n",
              "          const dataTable =\n",
              "            await google.colab.kernel.invokeFunction('convertToInteractive',\n",
              "                                                     [key], {});\n",
              "          if (!dataTable) return;\n",
              "\n",
              "          const docLinkHtml = 'Like what you see? Visit the ' +\n",
              "            '<a target=\"_blank\" href=https://colab.research.google.com/notebooks/data_table.ipynb>data table notebook</a>'\n",
              "            + ' to learn more about interactive tables.';\n",
              "          element.innerHTML = '';\n",
              "          dataTable['output_type'] = 'display_data';\n",
              "          await google.colab.output.renderOutput(dataTable, element);\n",
              "          const docLink = document.createElement('div');\n",
              "          docLink.innerHTML = docLinkHtml;\n",
              "          element.appendChild(docLink);\n",
              "        }\n",
              "      </script>\n",
              "    </div>\n",
              "  </div>\n",
              "  "
            ],
            "text/plain": [
              "  IMDb Title ID            Title  ...  Rating                         Genre\n",
              "0     tt0007338  Sherlock Holmes  ...   PG-13  Action & Adventure, Comedies\n",
              "5     tt0012382        Leap Year  ...      PG     Comedies, Romantic Movies\n",
              "\n",
              "[2 rows x 15 columns]"
            ]
          },
          "metadata": {},
          "execution_count": 18
        }
      ],
      "source": [
        "result.rename(columns={\"imdb_title_id\":\"IMDb Title ID\",\"title\":\"Title\",\"release_year\":\"Year\",\"listed_in\":\"Genre\",\"duration_x\":\"Duration\",\"country_x\": \"Country\",\"language\":\"Language\",\"director_x\" : \"Director\", \"description_x\":\"Description\",\"avg_vote\":\"IMDb Rating\",\"votes\":\"Votes\",\"budget\":\"Budget\",\"type\":\"Type\",\"cast\":\"Cast\",\"rating\":\"Rating\"}, inplace=True)\n",
        "result.head(2)"
      ]
    },
    {
      "cell_type": "code",
      "execution_count": null,
      "metadata": {
        "id": "Q_2JQoFZbiMx"
      },
      "outputs": [],
      "source": [
        "csv = pd.DataFrame(result)\n",
        "csv.to_csv('dataset_final.csv',index = False)"
      ]
    },
    {
      "cell_type": "code",
      "execution_count": null,
      "metadata": {
        "colab": {
          "base_uri": "https://localhost:8080/"
        },
        "id": "0AjkAyfa5aaR",
        "outputId": "6fcc5a69-96b7-4aea-cfcd-9ad9461ab4be"
      },
      "outputs": [
        {
          "output_type": "stream",
          "name": "stdout",
          "text": [
            "<class 'pandas.core.frame.DataFrame'>\n",
            "Int64Index: 2349 entries, 0 to 2959\n",
            "Data columns (total 15 columns):\n",
            " #   Column         Non-Null Count  Dtype  \n",
            "---  ------         --------------  -----  \n",
            " 0   IMDb Title ID  2349 non-null   object \n",
            " 1   Title          2349 non-null   object \n",
            " 2   Duration       2349 non-null   int64  \n",
            " 3   Country        2349 non-null   object \n",
            " 4   Language       2349 non-null   object \n",
            " 5   Director       2349 non-null   object \n",
            " 6   Description    2349 non-null   object \n",
            " 7   IMDb Rating    2349 non-null   float64\n",
            " 8   Votes          2349 non-null   int64  \n",
            " 9   Budget         2349 non-null   object \n",
            " 10  Type           2349 non-null   object \n",
            " 11  Cast           2349 non-null   object \n",
            " 12  Year           2349 non-null   int64  \n",
            " 13  Rating         2349 non-null   object \n",
            " 14  Genre          2349 non-null   object \n",
            "dtypes: float64(1), int64(3), object(11)\n",
            "memory usage: 293.6+ KB\n"
          ]
        }
      ],
      "source": [
        "result.info()"
      ]
    },
    {
      "cell_type": "markdown",
      "metadata": {
        "id": "Ts47fGUaJq-r"
      },
      "source": [
        "# **4 Análisis Exploratorio de Datos**"
      ]
    },
    {
      "cell_type": "markdown",
      "metadata": {
        "id": "2kA0d9kS9zHv"
      },
      "source": [
        "En primer lugar, visualizamos el Top 10 de películas y el Top 10 de programas de televisión en Netflix por su calificación en IMDb."
      ]
    },
    {
      "cell_type": "markdown",
      "source": [
        "## **4.1 Top 10 de peliculas**"
      ],
      "metadata": {
        "id": "uifNZM-2YLEH"
      }
    },
    {
      "cell_type": "code",
      "execution_count": null,
      "metadata": {
        "colab": {
          "base_uri": "https://localhost:8080/",
          "height": 380
        },
        "id": "_PwtopLY97CB",
        "outputId": "ce003c8e-08dc-46a8-e78d-5be5be7586dd"
      },
      "outputs": [
        {
          "output_type": "stream",
          "name": "stdout",
          "text": [
            "Top 10 de peliculas\n"
          ]
        },
        {
          "output_type": "execute_result",
          "data": {
            "text/html": [
              "\n",
              "  <div id=\"df-a2a8bafb-9e31-4ed3-9971-abe656702a49\">\n",
              "    <div class=\"colab-df-container\">\n",
              "      <div>\n",
              "<style scoped>\n",
              "    .dataframe tbody tr th:only-of-type {\n",
              "        vertical-align: middle;\n",
              "    }\n",
              "\n",
              "    .dataframe tbody tr th {\n",
              "        vertical-align: top;\n",
              "    }\n",
              "\n",
              "    .dataframe thead th {\n",
              "        text-align: right;\n",
              "    }\n",
              "</style>\n",
              "<table border=\"1\" class=\"dataframe\">\n",
              "  <thead>\n",
              "    <tr style=\"text-align: right;\">\n",
              "      <th></th>\n",
              "      <th>Title</th>\n",
              "      <th>IMDb Rating</th>\n",
              "    </tr>\n",
              "  </thead>\n",
              "  <tbody>\n",
              "    <tr>\n",
              "      <th>421</th>\n",
              "      <td>Schindler's List</td>\n",
              "      <td>8.9</td>\n",
              "    </tr>\n",
              "    <tr>\n",
              "      <th>441</th>\n",
              "      <td>Pulp Fiction</td>\n",
              "      <td>8.9</td>\n",
              "    </tr>\n",
              "    <tr>\n",
              "      <th>1442</th>\n",
              "      <td>Inception</td>\n",
              "      <td>8.8</td>\n",
              "    </tr>\n",
              "    <tr>\n",
              "      <th>826</th>\n",
              "      <td>City of God</td>\n",
              "      <td>8.6</td>\n",
              "    </tr>\n",
              "    <tr>\n",
              "      <th>469</th>\n",
              "      <td>Seven</td>\n",
              "      <td>8.6</td>\n",
              "    </tr>\n",
              "    <tr>\n",
              "      <th>693</th>\n",
              "      <td>Koshish</td>\n",
              "      <td>8.6</td>\n",
              "    </tr>\n",
              "    <tr>\n",
              "      <th>240</th>\n",
              "      <td>Gol Maal</td>\n",
              "      <td>8.6</td>\n",
              "    </tr>\n",
              "    <tr>\n",
              "      <th>1233</th>\n",
              "      <td>Oththa Seruppu Size 7</td>\n",
              "      <td>8.6</td>\n",
              "    </tr>\n",
              "    <tr>\n",
              "      <th>2161</th>\n",
              "      <td>Eh Janam Tumhare Lekhe</td>\n",
              "      <td>8.6</td>\n",
              "    </tr>\n",
              "    <tr>\n",
              "      <th>2886</th>\n",
              "      <td>Ani... Dr. Kashinath Ghanekar</td>\n",
              "      <td>8.6</td>\n",
              "    </tr>\n",
              "  </tbody>\n",
              "</table>\n",
              "</div>\n",
              "      <button class=\"colab-df-convert\" onclick=\"convertToInteractive('df-a2a8bafb-9e31-4ed3-9971-abe656702a49')\"\n",
              "              title=\"Convert this dataframe to an interactive table.\"\n",
              "              style=\"display:none;\">\n",
              "        \n",
              "  <svg xmlns=\"http://www.w3.org/2000/svg\" height=\"24px\"viewBox=\"0 0 24 24\"\n",
              "       width=\"24px\">\n",
              "    <path d=\"M0 0h24v24H0V0z\" fill=\"none\"/>\n",
              "    <path d=\"M18.56 5.44l.94 2.06.94-2.06 2.06-.94-2.06-.94-.94-2.06-.94 2.06-2.06.94zm-11 1L8.5 8.5l.94-2.06 2.06-.94-2.06-.94L8.5 2.5l-.94 2.06-2.06.94zm10 10l.94 2.06.94-2.06 2.06-.94-2.06-.94-.94-2.06-.94 2.06-2.06.94z\"/><path d=\"M17.41 7.96l-1.37-1.37c-.4-.4-.92-.59-1.43-.59-.52 0-1.04.2-1.43.59L10.3 9.45l-7.72 7.72c-.78.78-.78 2.05 0 2.83L4 21.41c.39.39.9.59 1.41.59.51 0 1.02-.2 1.41-.59l7.78-7.78 2.81-2.81c.8-.78.8-2.07 0-2.86zM5.41 20L4 18.59l7.72-7.72 1.47 1.35L5.41 20z\"/>\n",
              "  </svg>\n",
              "      </button>\n",
              "      \n",
              "  <style>\n",
              "    .colab-df-container {\n",
              "      display:flex;\n",
              "      flex-wrap:wrap;\n",
              "      gap: 12px;\n",
              "    }\n",
              "\n",
              "    .colab-df-convert {\n",
              "      background-color: #E8F0FE;\n",
              "      border: none;\n",
              "      border-radius: 50%;\n",
              "      cursor: pointer;\n",
              "      display: none;\n",
              "      fill: #1967D2;\n",
              "      height: 32px;\n",
              "      padding: 0 0 0 0;\n",
              "      width: 32px;\n",
              "    }\n",
              "\n",
              "    .colab-df-convert:hover {\n",
              "      background-color: #E2EBFA;\n",
              "      box-shadow: 0px 1px 2px rgba(60, 64, 67, 0.3), 0px 1px 3px 1px rgba(60, 64, 67, 0.15);\n",
              "      fill: #174EA6;\n",
              "    }\n",
              "\n",
              "    [theme=dark] .colab-df-convert {\n",
              "      background-color: #3B4455;\n",
              "      fill: #D2E3FC;\n",
              "    }\n",
              "\n",
              "    [theme=dark] .colab-df-convert:hover {\n",
              "      background-color: #434B5C;\n",
              "      box-shadow: 0px 1px 3px 1px rgba(0, 0, 0, 0.15);\n",
              "      filter: drop-shadow(0px 1px 2px rgba(0, 0, 0, 0.3));\n",
              "      fill: #FFFFFF;\n",
              "    }\n",
              "  </style>\n",
              "\n",
              "      <script>\n",
              "        const buttonEl =\n",
              "          document.querySelector('#df-a2a8bafb-9e31-4ed3-9971-abe656702a49 button.colab-df-convert');\n",
              "        buttonEl.style.display =\n",
              "          google.colab.kernel.accessAllowed ? 'block' : 'none';\n",
              "\n",
              "        async function convertToInteractive(key) {\n",
              "          const element = document.querySelector('#df-a2a8bafb-9e31-4ed3-9971-abe656702a49');\n",
              "          const dataTable =\n",
              "            await google.colab.kernel.invokeFunction('convertToInteractive',\n",
              "                                                     [key], {});\n",
              "          if (!dataTable) return;\n",
              "\n",
              "          const docLinkHtml = 'Like what you see? Visit the ' +\n",
              "            '<a target=\"_blank\" href=https://colab.research.google.com/notebooks/data_table.ipynb>data table notebook</a>'\n",
              "            + ' to learn more about interactive tables.';\n",
              "          element.innerHTML = '';\n",
              "          dataTable['output_type'] = 'display_data';\n",
              "          await google.colab.output.renderOutput(dataTable, element);\n",
              "          const docLink = document.createElement('div');\n",
              "          docLink.innerHTML = docLinkHtml;\n",
              "          element.appendChild(docLink);\n",
              "        }\n",
              "      </script>\n",
              "    </div>\n",
              "  </div>\n",
              "  "
            ],
            "text/plain": [
              "                              Title  IMDb Rating\n",
              "421                Schindler's List          8.9\n",
              "441                    Pulp Fiction          8.9\n",
              "1442                      Inception          8.8\n",
              "826                     City of God          8.6\n",
              "469                           Seven          8.6\n",
              "693                         Koshish          8.6\n",
              "240                        Gol Maal          8.6\n",
              "1233          Oththa Seruppu Size 7          8.6\n",
              "2161         Eh Janam Tumhare Lekhe          8.6\n",
              "2886  Ani... Dr. Kashinath Ghanekar          8.6"
            ]
          },
          "metadata": {},
          "execution_count": 34
        }
      ],
      "source": [
        "netflix_shows=result[result['Type']=='TV Show'].sort_values(by = 'IMDb Rating', ascending = False)\n",
        "netflix_movies=result[result['Type']=='Movie'].sort_values(by = 'IMDb Rating', ascending = False)\n",
        "\n",
        "top10_movies = netflix_movies.sort_values(\"IMDb Rating\", ascending = False)\n",
        "print('Top 10 de peliculas')\n",
        "top10_movies[['Title', \"IMDb Rating\"]][0:10]"
      ]
    },
    {
      "cell_type": "markdown",
      "source": [
        "## **4.2 Top 10 de Shows de TV**"
      ],
      "metadata": {
        "id": "Eo7LUzK_Yak3"
      }
    },
    {
      "cell_type": "code",
      "execution_count": null,
      "metadata": {
        "colab": {
          "base_uri": "https://localhost:8080/",
          "height": 363
        },
        "id": "UJOs2GfR9_tY",
        "outputId": "5f0e6c0b-7652-451b-d010-ded1c1154b80"
      },
      "outputs": [
        {
          "output_type": "execute_result",
          "data": {
            "text/html": [
              "\n",
              "  <div id=\"df-365ecb94-dcb7-43c8-bc8f-dc826eefa1ac\">\n",
              "    <div class=\"colab-df-container\">\n",
              "      <div>\n",
              "<style scoped>\n",
              "    .dataframe tbody tr th:only-of-type {\n",
              "        vertical-align: middle;\n",
              "    }\n",
              "\n",
              "    .dataframe tbody tr th {\n",
              "        vertical-align: top;\n",
              "    }\n",
              "\n",
              "    .dataframe thead th {\n",
              "        text-align: right;\n",
              "    }\n",
              "</style>\n",
              "<table border=\"1\" class=\"dataframe\">\n",
              "  <thead>\n",
              "    <tr style=\"text-align: right;\">\n",
              "      <th></th>\n",
              "      <th>Title</th>\n",
              "      <th>IMDb Rating</th>\n",
              "    </tr>\n",
              "  </thead>\n",
              "  <tbody>\n",
              "    <tr>\n",
              "      <th>160</th>\n",
              "      <td>Persona</td>\n",
              "      <td>8.1</td>\n",
              "    </tr>\n",
              "    <tr>\n",
              "      <th>802</th>\n",
              "      <td>My Sassy Girl</td>\n",
              "      <td>8.0</td>\n",
              "    </tr>\n",
              "    <tr>\n",
              "      <th>939</th>\n",
              "      <td>Trailer Park Boys</td>\n",
              "      <td>7.9</td>\n",
              "    </tr>\n",
              "    <tr>\n",
              "      <th>145</th>\n",
              "      <td>Spartacus</td>\n",
              "      <td>7.9</td>\n",
              "    </tr>\n",
              "    <tr>\n",
              "      <th>1037</th>\n",
              "      <td>Mind Game</td>\n",
              "      <td>7.8</td>\n",
              "    </tr>\n",
              "    <tr>\n",
              "      <th>881</th>\n",
              "      <td>Ray</td>\n",
              "      <td>7.7</td>\n",
              "    </tr>\n",
              "    <tr>\n",
              "      <th>2020</th>\n",
              "      <td>1983</td>\n",
              "      <td>7.7</td>\n",
              "    </tr>\n",
              "    <tr>\n",
              "      <th>128</th>\n",
              "      <td>Godzilla</td>\n",
              "      <td>7.6</td>\n",
              "    </tr>\n",
              "    <tr>\n",
              "      <th>486</th>\n",
              "      <td>Leila</td>\n",
              "      <td>7.6</td>\n",
              "    </tr>\n",
              "    <tr>\n",
              "      <th>632</th>\n",
              "      <td>After Life</td>\n",
              "      <td>7.6</td>\n",
              "    </tr>\n",
              "  </tbody>\n",
              "</table>\n",
              "</div>\n",
              "      <button class=\"colab-df-convert\" onclick=\"convertToInteractive('df-365ecb94-dcb7-43c8-bc8f-dc826eefa1ac')\"\n",
              "              title=\"Convert this dataframe to an interactive table.\"\n",
              "              style=\"display:none;\">\n",
              "        \n",
              "  <svg xmlns=\"http://www.w3.org/2000/svg\" height=\"24px\"viewBox=\"0 0 24 24\"\n",
              "       width=\"24px\">\n",
              "    <path d=\"M0 0h24v24H0V0z\" fill=\"none\"/>\n",
              "    <path d=\"M18.56 5.44l.94 2.06.94-2.06 2.06-.94-2.06-.94-.94-2.06-.94 2.06-2.06.94zm-11 1L8.5 8.5l.94-2.06 2.06-.94-2.06-.94L8.5 2.5l-.94 2.06-2.06.94zm10 10l.94 2.06.94-2.06 2.06-.94-2.06-.94-.94-2.06-.94 2.06-2.06.94z\"/><path d=\"M17.41 7.96l-1.37-1.37c-.4-.4-.92-.59-1.43-.59-.52 0-1.04.2-1.43.59L10.3 9.45l-7.72 7.72c-.78.78-.78 2.05 0 2.83L4 21.41c.39.39.9.59 1.41.59.51 0 1.02-.2 1.41-.59l7.78-7.78 2.81-2.81c.8-.78.8-2.07 0-2.86zM5.41 20L4 18.59l7.72-7.72 1.47 1.35L5.41 20z\"/>\n",
              "  </svg>\n",
              "      </button>\n",
              "      \n",
              "  <style>\n",
              "    .colab-df-container {\n",
              "      display:flex;\n",
              "      flex-wrap:wrap;\n",
              "      gap: 12px;\n",
              "    }\n",
              "\n",
              "    .colab-df-convert {\n",
              "      background-color: #E8F0FE;\n",
              "      border: none;\n",
              "      border-radius: 50%;\n",
              "      cursor: pointer;\n",
              "      display: none;\n",
              "      fill: #1967D2;\n",
              "      height: 32px;\n",
              "      padding: 0 0 0 0;\n",
              "      width: 32px;\n",
              "    }\n",
              "\n",
              "    .colab-df-convert:hover {\n",
              "      background-color: #E2EBFA;\n",
              "      box-shadow: 0px 1px 2px rgba(60, 64, 67, 0.3), 0px 1px 3px 1px rgba(60, 64, 67, 0.15);\n",
              "      fill: #174EA6;\n",
              "    }\n",
              "\n",
              "    [theme=dark] .colab-df-convert {\n",
              "      background-color: #3B4455;\n",
              "      fill: #D2E3FC;\n",
              "    }\n",
              "\n",
              "    [theme=dark] .colab-df-convert:hover {\n",
              "      background-color: #434B5C;\n",
              "      box-shadow: 0px 1px 3px 1px rgba(0, 0, 0, 0.15);\n",
              "      filter: drop-shadow(0px 1px 2px rgba(0, 0, 0, 0.3));\n",
              "      fill: #FFFFFF;\n",
              "    }\n",
              "  </style>\n",
              "\n",
              "      <script>\n",
              "        const buttonEl =\n",
              "          document.querySelector('#df-365ecb94-dcb7-43c8-bc8f-dc826eefa1ac button.colab-df-convert');\n",
              "        buttonEl.style.display =\n",
              "          google.colab.kernel.accessAllowed ? 'block' : 'none';\n",
              "\n",
              "        async function convertToInteractive(key) {\n",
              "          const element = document.querySelector('#df-365ecb94-dcb7-43c8-bc8f-dc826eefa1ac');\n",
              "          const dataTable =\n",
              "            await google.colab.kernel.invokeFunction('convertToInteractive',\n",
              "                                                     [key], {});\n",
              "          if (!dataTable) return;\n",
              "\n",
              "          const docLinkHtml = 'Like what you see? Visit the ' +\n",
              "            '<a target=\"_blank\" href=https://colab.research.google.com/notebooks/data_table.ipynb>data table notebook</a>'\n",
              "            + ' to learn more about interactive tables.';\n",
              "          element.innerHTML = '';\n",
              "          dataTable['output_type'] = 'display_data';\n",
              "          await google.colab.output.renderOutput(dataTable, element);\n",
              "          const docLink = document.createElement('div');\n",
              "          docLink.innerHTML = docLinkHtml;\n",
              "          element.appendChild(docLink);\n",
              "        }\n",
              "      </script>\n",
              "    </div>\n",
              "  </div>\n",
              "  "
            ],
            "text/plain": [
              "                  Title  IMDb Rating\n",
              "160             Persona          8.1\n",
              "802       My Sassy Girl          8.0\n",
              "939   Trailer Park Boys          7.9\n",
              "145           Spartacus          7.9\n",
              "1037          Mind Game          7.8\n",
              "881                 Ray          7.7\n",
              "2020               1983          7.7\n",
              "128            Godzilla          7.6\n",
              "486               Leila          7.6\n",
              "632          After Life          7.6"
            ]
          },
          "metadata": {},
          "execution_count": 22
        }
      ],
      "source": [
        "top10_shows = netflix_shows.sort_values(\"IMDb Rating\", ascending = False) \n",
        "top10_shows[['Title', \"IMDb Rating\"]][0:10] "
      ]
    },
    {
      "cell_type": "markdown",
      "source": [
        "## **4.3 Clasificación basada en la edad**"
      ],
      "metadata": {
        "id": "qOm2BbEWZu5l"
      }
    },
    {
      "cell_type": "markdown",
      "metadata": {
        "id": "c9rxue6r9_Ja"
      },
      "source": [
        "En nuestros datos hay una clasificación orientativa basada en qué grupo de edad debe ver ese contenido. De las palabras clave podemos ver que Niños pequeños se refiere a: Menores de 7 años, Niños mayores: 7+, Adolescentes: 13+, Adultos: 17+ y también hay contenidos que se mencionan como No clasificados. Así pues, este es el gráfico circular del porcentaje de contenido de Netflix para los grupos de edad de referencia."
      ]
    },
    {
      "cell_type": "code",
      "execution_count": null,
      "metadata": {
        "colab": {
          "base_uri": "https://localhost:8080/",
          "height": 296
        },
        "id": "sdpMyhsPZug1",
        "outputId": "a5e22a41-2c86-4bfb-bb3d-865a509a770f"
      },
      "outputs": [
        {
          "output_type": "stream",
          "name": "stdout",
          "text": [
            "Clasificación Basada en la edad\n"
          ]
        },
        {
          "output_type": "display_data",
          "data": {
            "image/png": "[encoded data removed]",
            "text/plain": [
              "<Figure size 432x288 with 1 Axes>"
            ]
          },
          "metadata": {
            "needs_background": "light"
          }
        }
      ],
      "source": [
        "netflix_rating = dfN['rating'].value_counts()\n",
        "netflix_rating = pd.DataFrame(netflix_rating).reset_index()\n",
        "netflix_rating.columns = ['rating','Nbr']\n",
        "sns.barplot(x = 'rating',y = 'Nbr', data=netflix_rating.head(10));\n",
        "print('Clasificación Basada en la edad')"
      ]
    },
    {
      "cell_type": "code",
      "execution_count": null,
      "metadata": {
        "colab": {
          "base_uri": "https://localhost:8080/",
          "height": 319
        },
        "id": "x98ol8WHJwyt",
        "outputId": "8a757e2f-3d96-4007-e101-f95358c4d03e"
      },
      "outputs": [
        {
          "output_type": "display_data",
          "data": {
            "image/png": "[encoded data removed]",
            "text/plain": [
              "<Figure size 432x288 with 1 Axes>"
            ]
          },
          "metadata": {}
        }
      ],
      "source": [
        "little_kids=result.Rating.value_counts()['TV-Y']+result.Rating.value_counts()['TV-G']+ result.Rating.value_counts()['G']\n",
        "older_kids= result.Rating.value_counts()['TV-Y7']+result.Rating.value_counts()['TV-PG']+result.Rating.value_counts()['PG']\n",
        "teens = result.Rating.value_counts()['TV-14']++result.Rating.value_counts()['PG-13']\n",
        "adults = result.Rating.value_counts()['TV-MA']+result.Rating.value_counts()['R']+result.Rating.value_counts()['NC-17']\n",
        "not_rated = result.Rating.value_counts()['NR']+result.Rating.value_counts()['UR']\n",
        "plt.title('Clasificación de los contenidos de Netflix',fontsize=10,weight='bold')\n",
        "plt.pie(x=[adults,teens,older_kids,little_kids,not_rated],labels=['Adults','Teens','Older Kids','Little Kids','Not Rated'],autopct='%1.1f%%',radius=1.5,pctdistance=0.8)\n",
        "plt.show()"
      ]
    },
    {
      "cell_type": "markdown",
      "metadata": {
        "id": "hmJKU4Nl-auD"
      },
      "source": [
        "Como podemos ver, el contenido es mayoritariamente para el público adulto (51%) que se refiere a mayores de 18 años (maduros).\n",
        "También hay una gran parte de contenidos para adolescentes si lo comparamos con otros (35%) que no son adecuados para niños menores de 13 años.\n",
        "El 10% restante es apto para niños menores de 13 años.\n",
        "\n",
        "En conclusión, alrededor del 85% del contenido de las películas y programas de televisión de Netflix está dirigido a un público mayor de 13 y 17 años. Por lo tanto, son aptos para adolescentes y adultos."
      ]
    },
    {
      "cell_type": "markdown",
      "source": [
        "## **4.4 Clasificación de contenido**"
      ],
      "metadata": {
        "id": "7xrqBFDzashD"
      }
    },
    {
      "cell_type": "markdown",
      "metadata": {
        "id": "KCPTna9a-t1-"
      },
      "source": [
        "A continuacion se presenta un gráfico de barras para la distribución de todas las clasificaciones de contenido por sus cuentas."
      ]
    },
    {
      "cell_type": "code",
      "execution_count": null,
      "metadata": {
        "colab": {
          "base_uri": "https://localhost:8080/",
          "height": 542
        },
        "id": "5hj9gi4rJ4M2",
        "outputId": "2e61a076-b93b-44c8-8f91-484a4fcee43b"
      },
      "outputs": [
        {
          "output_type": "display_data",
          "data": {
            "text/html": [
              "<html>\n",
              "<head><meta charset=\"utf-8\" /></head>\n",
              "<body>\n",
              "    <div>            <script src=\"https://cdnjs.cloudflare.com/ajax/libs/mathjax/2.7.5/MathJax.js?config=TeX-AMS-MML_SVG\"></script><script type=\"text/javascript\">if (window.MathJax) {MathJax.Hub.Config({SVG: {font: \"STIX-Web\"}});}</script>                <script type=\"text/javascript\">window.PlotlyConfig = {MathJaxConfig: 'local'};</script>\n",
              "        <script src=\"https://cdn.plot.ly/plotly-2.8.3.min.js\"></script>                <div id=\"a8320cad-1eab-4c85-99f6-52398e943549\" class=\"plotly-graph-div\" style=\"height:525px; width:100%;\"></div>            <script type=\"text/javascript\">                                    window.PLOTLYENV=window.PLOTLYENV || {};                                    if (document.getElementById(\"a8320cad-1eab-4c85-99f6-52398e943549\")) {                    Plotly.newPlot(                        \"a8320cad-1eab-4c85-99f6-52398e943549\",                        [{\"marker\":{\"color\":\"#ff7c00\"},\"text\":[\"0.1 %\",\"0.0 %\",\"0.3 %\",\"0.3 %\",\"0.4 %\",\"0.3 %\",\"0.6 %\",\"0.8 %\",\"1.1 %\",\"1.0 %\",\"0.8 %\",\"1.1 %\",\"1.9 %\",\"1.5 %\",\"1.8 %\",\"2.2 %\",\"1.8 %\",\"3.5 %\",\"2.6 %\",\"2.9 %\",\"3.4 %\",\"2.9 %\",\"2.9 %\",\"3.0 %\",\"3.4 %\",\"3.8 %\",\"3.8 %\",\"3.7 %\",\"2.9 %\",\"2.2 %\",\"3.2 %\",\"2.5 %\",\"2.9 %\",\"2.6 %\",\"2.7 %\",\"2.8 %\",\"2.2 %\",\"2.1 %\",\"1.4 %\",\"1.1 %\",\"1.6 %\",\"1.5 %\",\"1.5 %\",\"1.3 %\",\"1.5 %\",\"1.4 %\",\"1.6 %\",\"0.8 %\",\"0.7 %\",\"0.7 %\",\"0.7 %\",\"0.8 %\",\"0.6 %\",\"0.6 %\",\"0.4 %\",\"0.4 %\",\"0.2 %\",\"0.4 %\",\"0.3 %\",\"0.3 %\",\"0.4 %\",\"0.2 %\",\"0.3 %\",\"0.2 %\",\"0.3 %\",\"0.0 %\",\"0.1 %\",\"0.1 %\",\"0.1 %\",\"0.1 %\",\"0.0 %\",\"0.0 %\"],\"textfont\":{\"color\":\"#010203\"},\"textposition\":\"auto\",\"x\":[8.9,8.8,8.6,8.5,8.4,8.3,8.2,8.1,8.0,7.9,7.8,7.7,7.6,7.5,7.4,7.3,7.2,7.1,7.0,6.9,6.8,6.7,6.6,6.5,6.4,6.3,6.2,6.1,6.0,5.9,5.8,5.7,5.6,5.5,5.4,5.3,5.2,5.1,5.0,4.9,4.8,4.7,4.6,4.5,4.4,4.3,4.2,4.1,4.0,3.9,3.8,3.7,3.6,3.5,3.4,3.3,3.2,3.1,3.0,2.9,2.8,2.7,2.6,2.5,2.4,2.3,2.2,2.1,2.0,1.9,1.7,1.6],\"y\":[2,1,7,6,9,8,13,19,26,24,19,27,45,36,42,51,42,82,60,67,80,69,67,71,81,90,89,88,69,51,76,59,68,61,63,65,51,49,33,27,37,35,36,31,35,34,37,18,17,17,17,19,14,14,10,10,5,9,8,8,9,4,7,5,7,1,2,3,3,2,1,1],\"type\":\"bar\"}],                        {\"template\":{\"data\":{\"barpolar\":[{\"marker\":{\"line\":{\"color\":\"#E5ECF6\",\"width\":0.5},\"pattern\":{\"fillmode\":\"overlay\",\"size\":10,\"solidity\":0.2}},\"type\":\"barpolar\"}],\"bar\":[{\"error_x\":{\"color\":\"#2a3f5f\"},\"error_y\":{\"color\":\"#2a3f5f\"},\"marker\":{\"line\":{\"color\":\"#E5ECF6\",\"width\":0.5},\"pattern\":{\"fillmode\":\"overlay\",\"size\":10,\"solidity\":0.2}},\"type\":\"bar\"}],\"carpet\":[{\"aaxis\":{\"endlinecolor\":\"#2a3f5f\",\"gridcolor\":\"white\",\"linecolor\":\"white\",\"minorgridcolor\":\"white\",\"startlinecolor\":\"#2a3f5f\"},\"baxis\":{\"endlinecolor\":\"#2a3f5f\",\"gridcolor\":\"white\",\"linecolor\":\"white\",\"minorgridcolor\":\"white\",\"startlinecolor\":\"#2a3f5f\"},\"type\":\"carpet\"}],\"choropleth\":[{\"colorbar\":{\"outlinewidth\":0,\"ticks\":\"\"},\"type\":\"choropleth\"}],\"contourcarpet\":[{\"colorbar\":{\"outlinewidth\":0,\"ticks\":\"\"},\"type\":\"contourcarpet\"}],\"contour\":[{\"colorbar\":{\"outlinewidth\":0,\"ticks\":\"\"},\"colorscale\":[[0.0,\"#0d0887\"],[0.1111111111111111,\"#46039f\"],[0.2222222222222222,\"#7201a8\"],[0.3333333333333333,\"#9c179e\"],[0.4444444444444444,\"#bd3786\"],[0.5555555555555556,\"#d8576b\"],[0.6666666666666666,\"#ed7953\"],[0.7777777777777778,\"#fb9f3a\"],[0.8888888888888888,\"#fdca26\"],[1.0,\"#f0f921\"]],\"type\":\"contour\"}],\"heatmapgl\":[{\"colorbar\":{\"outlinewidth\":0,\"ticks\":\"\"},\"colorscale\":[[0.0,\"#0d0887\"],[0.1111111111111111,\"#46039f\"],[0.2222222222222222,\"#7201a8\"],[0.3333333333333333,\"#9c179e\"],[0.4444444444444444,\"#bd3786\"],[0.5555555555555556,\"#d8576b\"],[0.6666666666666666,\"#ed7953\"],[0.7777777777777778,\"#fb9f3a\"],[0.8888888888888888,\"#fdca26\"],[1.0,\"#f0f921\"]],\"type\":\"heatmapgl\"}],\"heatmap\":[{\"colorbar\":{\"outlinewidth\":0,\"ticks\":\"\"},\"colorscale\":[[0.0,\"#0d0887\"],[0.1111111111111111,\"#46039f\"],[0.2222222222222222,\"#7201a8\"],[0.3333333333333333,\"#9c179e\"],[0.4444444444444444,\"#bd3786\"],[0.5555555555555556,\"#d8576b\"],[0.6666666666666666,\"#ed7953\"],[0.7777777777777778,\"#fb9f3a\"],[0.8888888888888888,\"#fdca26\"],[1.0,\"#f0f921\"]],\"type\":\"heatmap\"}],\"histogram2dcontour\":[{\"colorbar\":{\"outlinewidth\":0,\"ticks\":\"\"},\"colorscale\":[[0.0,\"#0d0887\"],[0.1111111111111111,\"#46039f\"],[0.2222222222222222,\"#7201a8\"],[0.3333333333333333,\"#9c179e\"],[0.4444444444444444,\"#bd3786\"],[0.5555555555555556,\"#d8576b\"],[0.6666666666666666,\"#ed7953\"],[0.7777777777777778,\"#fb9f3a\"],[0.8888888888888888,\"#fdca26\"],[1.0,\"#f0f921\"]],\"type\":\"histogram2dcontour\"}],\"histogram2d\":[{\"colorbar\":{\"outlinewidth\":0,\"ticks\":\"\"},\"colorscale\":[[0.0,\"#0d0887\"],[0.1111111111111111,\"#46039f\"],[0.2222222222222222,\"#7201a8\"],[0.3333333333333333,\"#9c179e\"],[0.4444444444444444,\"#bd3786\"],[0.5555555555555556,\"#d8576b\"],[0.6666666666666666,\"#ed7953\"],[0.7777777777777778,\"#fb9f3a\"],[0.8888888888888888,\"#fdca26\"],[1.0,\"#f0f921\"]],\"type\":\"histogram2d\"}],\"histogram\":[{\"marker\":{\"pattern\":{\"fillmode\":\"overlay\",\"size\":10,\"solidity\":0.2}},\"type\":\"histogram\"}],\"mesh3d\":[{\"colorbar\":{\"outlinewidth\":0,\"ticks\":\"\"},\"type\":\"mesh3d\"}],\"parcoords\":[{\"line\":{\"colorbar\":{\"outlinewidth\":0,\"ticks\":\"\"}},\"type\":\"parcoords\"}],\"pie\":[{\"automargin\":true,\"type\":\"pie\"}],\"scatter3d\":[{\"line\":{\"colorbar\":{\"outlinewidth\":0,\"ticks\":\"\"}},\"marker\":{\"colorbar\":{\"outlinewidth\":0,\"ticks\":\"\"}},\"type\":\"scatter3d\"}],\"scattercarpet\":[{\"marker\":{\"colorbar\":{\"outlinewidth\":0,\"ticks\":\"\"}},\"type\":\"scattercarpet\"}],\"scattergeo\":[{\"marker\":{\"colorbar\":{\"outlinewidth\":0,\"ticks\":\"\"}},\"type\":\"scattergeo\"}],\"scattergl\":[{\"marker\":{\"colorbar\":{\"outlinewidth\":0,\"ticks\":\"\"}},\"type\":\"scattergl\"}],\"scattermapbox\":[{\"marker\":{\"colorbar\":{\"outlinewidth\":0,\"ticks\":\"\"}},\"type\":\"scattermapbox\"}],\"scatterpolargl\":[{\"marker\":{\"colorbar\":{\"outlinewidth\":0,\"ticks\":\"\"}},\"type\":\"scatterpolargl\"}],\"scatterpolar\":[{\"marker\":{\"colorbar\":{\"outlinewidth\":0,\"ticks\":\"\"}},\"type\":\"scatterpolar\"}],\"scatter\":[{\"marker\":{\"colorbar\":{\"outlinewidth\":0,\"ticks\":\"\"}},\"type\":\"scatter\"}],\"scatterternary\":[{\"marker\":{\"colorbar\":{\"outlinewidth\":0,\"ticks\":\"\"}},\"type\":\"scatterternary\"}],\"surface\":[{\"colorbar\":{\"outlinewidth\":0,\"ticks\":\"\"},\"colorscale\":[[0.0,\"#0d0887\"],[0.1111111111111111,\"#46039f\"],[0.2222222222222222,\"#7201a8\"],[0.3333333333333333,\"#9c179e\"],[0.4444444444444444,\"#bd3786\"],[0.5555555555555556,\"#d8576b\"],[0.6666666666666666,\"#ed7953\"],[0.7777777777777778,\"#fb9f3a\"],[0.8888888888888888,\"#fdca26\"],[1.0,\"#f0f921\"]],\"type\":\"surface\"}],\"table\":[{\"cells\":{\"fill\":{\"color\":\"#EBF0F8\"},\"line\":{\"color\":\"white\"}},\"header\":{\"fill\":{\"color\":\"#C8D4E3\"},\"line\":{\"color\":\"white\"}},\"type\":\"table\"}]},\"layout\":{\"annotationdefaults\":{\"arrowcolor\":\"#2a3f5f\",\"arrowhead\":0,\"arrowwidth\":1},\"autotypenumbers\":\"strict\",\"coloraxis\":{\"colorbar\":{\"outlinewidth\":0,\"ticks\":\"\"}},\"colorscale\":{\"diverging\":[[0,\"#8e0152\"],[0.1,\"#c51b7d\"],[0.2,\"#de77ae\"],[0.3,\"#f1b6da\"],[0.4,\"#fde0ef\"],[0.5,\"#f7f7f7\"],[0.6,\"#e6f5d0\"],[0.7,\"#b8e186\"],[0.8,\"#7fbc41\"],[0.9,\"#4d9221\"],[1,\"#276419\"]],\"sequential\":[[0.0,\"#0d0887\"],[0.1111111111111111,\"#46039f\"],[0.2222222222222222,\"#7201a8\"],[0.3333333333333333,\"#9c179e\"],[0.4444444444444444,\"#bd3786\"],[0.5555555555555556,\"#d8576b\"],[0.6666666666666666,\"#ed7953\"],[0.7777777777777778,\"#fb9f3a\"],[0.8888888888888888,\"#fdca26\"],[1.0,\"#f0f921\"]],\"sequentialminus\":[[0.0,\"#0d0887\"],[0.1111111111111111,\"#46039f\"],[0.2222222222222222,\"#7201a8\"],[0.3333333333333333,\"#9c179e\"],[0.4444444444444444,\"#bd3786\"],[0.5555555555555556,\"#d8576b\"],[0.6666666666666666,\"#ed7953\"],[0.7777777777777778,\"#fb9f3a\"],[0.8888888888888888,\"#fdca26\"],[1.0,\"#f0f921\"]]},\"colorway\":[\"#636efa\",\"#EF553B\",\"#00cc96\",\"#ab63fa\",\"#FFA15A\",\"#19d3f3\",\"#FF6692\",\"#B6E880\",\"#FF97FF\",\"#FECB52\"],\"font\":{\"color\":\"#2a3f5f\"},\"geo\":{\"bgcolor\":\"white\",\"lakecolor\":\"white\",\"landcolor\":\"#E5ECF6\",\"showlakes\":true,\"showland\":true,\"subunitcolor\":\"white\"},\"hoverlabel\":{\"align\":\"left\"},\"hovermode\":\"closest\",\"mapbox\":{\"style\":\"light\"},\"paper_bgcolor\":\"white\",\"plot_bgcolor\":\"#E5ECF6\",\"polar\":{\"angularaxis\":{\"gridcolor\":\"white\",\"linecolor\":\"white\",\"ticks\":\"\"},\"bgcolor\":\"#E5ECF6\",\"radialaxis\":{\"gridcolor\":\"white\",\"linecolor\":\"white\",\"ticks\":\"\"}},\"scene\":{\"xaxis\":{\"backgroundcolor\":\"#E5ECF6\",\"gridcolor\":\"white\",\"gridwidth\":2,\"linecolor\":\"white\",\"showbackground\":true,\"ticks\":\"\",\"zerolinecolor\":\"white\"},\"yaxis\":{\"backgroundcolor\":\"#E5ECF6\",\"gridcolor\":\"white\",\"gridwidth\":2,\"linecolor\":\"white\",\"showbackground\":true,\"ticks\":\"\",\"zerolinecolor\":\"white\"},\"zaxis\":{\"backgroundcolor\":\"#E5ECF6\",\"gridcolor\":\"white\",\"gridwidth\":2,\"linecolor\":\"white\",\"showbackground\":true,\"ticks\":\"\",\"zerolinecolor\":\"white\"}},\"shapedefaults\":{\"line\":{\"color\":\"#2a3f5f\"}},\"ternary\":{\"aaxis\":{\"gridcolor\":\"white\",\"linecolor\":\"white\",\"ticks\":\"\"},\"baxis\":{\"gridcolor\":\"white\",\"linecolor\":\"white\",\"ticks\":\"\"},\"bgcolor\":\"#E5ECF6\",\"caxis\":{\"gridcolor\":\"white\",\"linecolor\":\"white\",\"ticks\":\"\"}},\"title\":{\"x\":0.05},\"xaxis\":{\"automargin\":true,\"gridcolor\":\"white\",\"linecolor\":\"white\",\"ticks\":\"\",\"title\":{\"standoff\":15},\"zerolinecolor\":\"white\",\"zerolinewidth\":2},\"yaxis\":{\"automargin\":true,\"gridcolor\":\"white\",\"linecolor\":\"white\",\"ticks\":\"\",\"title\":{\"standoff\":15},\"zerolinecolor\":\"white\",\"zerolinewidth\":2}}},\"title\":{\"text\":\"Distribuci\\u00f3n de 2349 clasificaciones de Netflix\"},\"xaxis\":{\"title\":{\"text\":\"IMDb Rating\"}},\"yaxis\":{\"title\":{\"text\":\"Cantidad\"}}},                        {\"responsive\": true}                    ).then(function(){\n",
              "                            \n",
              "var gd = document.getElementById('a8320cad-1eab-4c85-99f6-52398e943549');\n",
              "var x = new MutationObserver(function (mutations, observer) {{\n",
              "        var display = window.getComputedStyle(gd).display;\n",
              "        if (!display || display === 'none') {{\n",
              "            console.log([gd, 'removed!']);\n",
              "            Plotly.purge(gd);\n",
              "            observer.disconnect();\n",
              "        }}\n",
              "}});\n",
              "\n",
              "// Listen for the removal of the full notebook cells\n",
              "var notebookContainer = gd.closest('#notebook-container');\n",
              "if (notebookContainer) {{\n",
              "    x.observe(notebookContainer, {childList: true});\n",
              "}}\n",
              "\n",
              "// Listen for the clearing of the current output cell\n",
              "var outputEl = gd.closest('.output');\n",
              "if (outputEl) {{\n",
              "    x.observe(outputEl, {childList: true});\n",
              "}}\n",
              "\n",
              "                        })                };                            </script>        </div>\n",
              "</body>\n",
              "</html>"
            ]
          },
          "metadata": {}
        }
      ],
      "source": [
        "from plotly.offline import init_notebook_mode, plot, iplot \n",
        "import plotly.graph_objs as go\n",
        "\n",
        "data = result['IMDb Rating'].value_counts().sort_index(ascending=False)\n",
        "\n",
        "hold = go.Bar(x = data.index,\n",
        "               text = ['{:.1f} %'.format(val) for val in (data.values / result.shape[0] * 100)],\n",
        "               textposition = 'auto',\n",
        "               textfont = dict(color = '#010203'),\n",
        "               y = data.values,\n",
        "               marker = dict(color = '#ff7c00'))\n",
        "\n",
        "layout = dict(title = 'Distribución de {} clasificaciones de Netflix'.format(result.shape[0]),\n",
        "              xaxis = dict(title = 'IMDb Rating'),\n",
        "              yaxis = dict(title = 'Cantidad'))\n",
        "\n",
        "distfigure = go.Figure(data=[hold], layout=layout)\n",
        "iplot(distfigure)"
      ]
    },
    {
      "cell_type": "markdown",
      "metadata": {
        "id": "v-oOMIOo-3cM"
      },
      "source": [
        "La valoración mínima de un contenido en IMDb es de 1,9, mientras que la máxima es de 8,9 sobre 10. Sólo hay 118 votos por debajo de 4 mientras que hay 1569 votos entre la calificación 4-8. Por lo tanto, podemos decir que las valoraciones por debajo de 4 y por encima de 8 se dan menos en comparación con otras valoraciones. Además, las valoraciones más frecuentes de IMDb están entre el 6 y el 7."
      ]
    },
    {
      "cell_type": "markdown",
      "source": [
        "## **4.5 Distribución de géneros**"
      ],
      "metadata": {
        "id": "WVJFPEBEa2dd"
      }
    },
    {
      "cell_type": "markdown",
      "metadata": {
        "id": "F0dF1o9G--vD"
      },
      "source": [
        "A continuación se presenta un gráfico circular para ver la distribución de los diferentes géneros y sus porcentajes."
      ]
    },
    {
      "cell_type": "code",
      "execution_count": null,
      "metadata": {
        "colab": {
          "base_uri": "https://localhost:8080/",
          "height": 542
        },
        "id": "LjJTHXL9J9ZG",
        "outputId": "edff010d-a203-44a0-d717-69e3a1a7e8f6"
      },
      "outputs": [
        {
          "output_type": "display_data",
          "data": {
            "text/html": [
              "<html>\n",
              "<head><meta charset=\"utf-8\" /></head>\n",
              "<body>\n",
              "    <div>            <script src=\"https://cdnjs.cloudflare.com/ajax/libs/mathjax/2.7.5/MathJax.js?config=TeX-AMS-MML_SVG\"></script><script type=\"text/javascript\">if (window.MathJax) {MathJax.Hub.Config({SVG: {font: \"STIX-Web\"}});}</script>                <script type=\"text/javascript\">window.PlotlyConfig = {MathJaxConfig: 'local'};</script>\n",
              "        <script src=\"https://cdn.plot.ly/plotly-2.8.3.min.js\"></script>                <div id=\"58dd680e-ebde-46a3-a6ef-c4b64ba7c85a\" class=\"plotly-graph-div\" style=\"height:525px; width:100%;\"></div>            <script type=\"text/javascript\">                                    window.PLOTLYENV=window.PLOTLYENV || {};                                    if (document.getElementById(\"58dd680e-ebde-46a3-a6ef-c4b64ba7c85a\")) {                    Plotly.newPlot(                        \"58dd680e-ebde-46a3-a6ef-c4b64ba7c85a\",                        [{\"labels\":[\"Sci-Fi & Fantasy\",\"International TV Shows\",\"Horror Movies\",\"Romantic Movies\",\"Thrillers\",\"Action & Adventure\",\"Independent Movies\",\"Comedies\",\"International Movies\",\"Dramas\"],\"textinfo\":\"label\",\"values\":[123,139,186,258,316,367,459,645,1096,1179],\"type\":\"pie\"}],                        {\"title\":{\"text\":\"Contenidos por g\\u00e9nero\"},\"template\":{\"data\":{\"bar\":[{\"error_x\":{\"color\":\"#2a3f5f\"},\"error_y\":{\"color\":\"#2a3f5f\"},\"marker\":{\"line\":{\"color\":\"#E5ECF6\",\"width\":0.5},\"pattern\":{\"fillmode\":\"overlay\",\"size\":10,\"solidity\":0.2}},\"type\":\"bar\"}],\"barpolar\":[{\"marker\":{\"line\":{\"color\":\"#E5ECF6\",\"width\":0.5},\"pattern\":{\"fillmode\":\"overlay\",\"size\":10,\"solidity\":0.2}},\"type\":\"barpolar\"}],\"carpet\":[{\"aaxis\":{\"endlinecolor\":\"#2a3f5f\",\"gridcolor\":\"white\",\"linecolor\":\"white\",\"minorgridcolor\":\"white\",\"startlinecolor\":\"#2a3f5f\"},\"baxis\":{\"endlinecolor\":\"#2a3f5f\",\"gridcolor\":\"white\",\"linecolor\":\"white\",\"minorgridcolor\":\"white\",\"startlinecolor\":\"#2a3f5f\"},\"type\":\"carpet\"}],\"choropleth\":[{\"colorbar\":{\"outlinewidth\":0,\"ticks\":\"\"},\"type\":\"choropleth\"}],\"contour\":[{\"colorbar\":{\"outlinewidth\":0,\"ticks\":\"\"},\"colorscale\":[[0.0,\"#0d0887\"],[0.1111111111111111,\"#46039f\"],[0.2222222222222222,\"#7201a8\"],[0.3333333333333333,\"#9c179e\"],[0.4444444444444444,\"#bd3786\"],[0.5555555555555556,\"#d8576b\"],[0.6666666666666666,\"#ed7953\"],[0.7777777777777778,\"#fb9f3a\"],[0.8888888888888888,\"#fdca26\"],[1.0,\"#f0f921\"]],\"type\":\"contour\"}],\"contourcarpet\":[{\"colorbar\":{\"outlinewidth\":0,\"ticks\":\"\"},\"type\":\"contourcarpet\"}],\"heatmap\":[{\"colorbar\":{\"outlinewidth\":0,\"ticks\":\"\"},\"colorscale\":[[0.0,\"#0d0887\"],[0.1111111111111111,\"#46039f\"],[0.2222222222222222,\"#7201a8\"],[0.3333333333333333,\"#9c179e\"],[0.4444444444444444,\"#bd3786\"],[0.5555555555555556,\"#d8576b\"],[0.6666666666666666,\"#ed7953\"],[0.7777777777777778,\"#fb9f3a\"],[0.8888888888888888,\"#fdca26\"],[1.0,\"#f0f921\"]],\"type\":\"heatmap\"}],\"heatmapgl\":[{\"colorbar\":{\"outlinewidth\":0,\"ticks\":\"\"},\"colorscale\":[[0.0,\"#0d0887\"],[0.1111111111111111,\"#46039f\"],[0.2222222222222222,\"#7201a8\"],[0.3333333333333333,\"#9c179e\"],[0.4444444444444444,\"#bd3786\"],[0.5555555555555556,\"#d8576b\"],[0.6666666666666666,\"#ed7953\"],[0.7777777777777778,\"#fb9f3a\"],[0.8888888888888888,\"#fdca26\"],[1.0,\"#f0f921\"]],\"type\":\"heatmapgl\"}],\"histogram\":[{\"marker\":{\"pattern\":{\"fillmode\":\"overlay\",\"size\":10,\"solidity\":0.2}},\"type\":\"histogram\"}],\"histogram2d\":[{\"colorbar\":{\"outlinewidth\":0,\"ticks\":\"\"},\"colorscale\":[[0.0,\"#0d0887\"],[0.1111111111111111,\"#46039f\"],[0.2222222222222222,\"#7201a8\"],[0.3333333333333333,\"#9c179e\"],[0.4444444444444444,\"#bd3786\"],[0.5555555555555556,\"#d8576b\"],[0.6666666666666666,\"#ed7953\"],[0.7777777777777778,\"#fb9f3a\"],[0.8888888888888888,\"#fdca26\"],[1.0,\"#f0f921\"]],\"type\":\"histogram2d\"}],\"histogram2dcontour\":[{\"colorbar\":{\"outlinewidth\":0,\"ticks\":\"\"},\"colorscale\":[[0.0,\"#0d0887\"],[0.1111111111111111,\"#46039f\"],[0.2222222222222222,\"#7201a8\"],[0.3333333333333333,\"#9c179e\"],[0.4444444444444444,\"#bd3786\"],[0.5555555555555556,\"#d8576b\"],[0.6666666666666666,\"#ed7953\"],[0.7777777777777778,\"#fb9f3a\"],[0.8888888888888888,\"#fdca26\"],[1.0,\"#f0f921\"]],\"type\":\"histogram2dcontour\"}],\"mesh3d\":[{\"colorbar\":{\"outlinewidth\":0,\"ticks\":\"\"},\"type\":\"mesh3d\"}],\"parcoords\":[{\"line\":{\"colorbar\":{\"outlinewidth\":0,\"ticks\":\"\"}},\"type\":\"parcoords\"}],\"pie\":[{\"automargin\":true,\"type\":\"pie\"}],\"scatter\":[{\"marker\":{\"colorbar\":{\"outlinewidth\":0,\"ticks\":\"\"}},\"type\":\"scatter\"}],\"scatter3d\":[{\"line\":{\"colorbar\":{\"outlinewidth\":0,\"ticks\":\"\"}},\"marker\":{\"colorbar\":{\"outlinewidth\":0,\"ticks\":\"\"}},\"type\":\"scatter3d\"}],\"scattercarpet\":[{\"marker\":{\"colorbar\":{\"outlinewidth\":0,\"ticks\":\"\"}},\"type\":\"scattercarpet\"}],\"scattergeo\":[{\"marker\":{\"colorbar\":{\"outlinewidth\":0,\"ticks\":\"\"}},\"type\":\"scattergeo\"}],\"scattergl\":[{\"marker\":{\"colorbar\":{\"outlinewidth\":0,\"ticks\":\"\"}},\"type\":\"scattergl\"}],\"scattermapbox\":[{\"marker\":{\"colorbar\":{\"outlinewidth\":0,\"ticks\":\"\"}},\"type\":\"scattermapbox\"}],\"scatterpolar\":[{\"marker\":{\"colorbar\":{\"outlinewidth\":0,\"ticks\":\"\"}},\"type\":\"scatterpolar\"}],\"scatterpolargl\":[{\"marker\":{\"colorbar\":{\"outlinewidth\":0,\"ticks\":\"\"}},\"type\":\"scatterpolargl\"}],\"scatterternary\":[{\"marker\":{\"colorbar\":{\"outlinewidth\":0,\"ticks\":\"\"}},\"type\":\"scatterternary\"}],\"surface\":[{\"colorbar\":{\"outlinewidth\":0,\"ticks\":\"\"},\"colorscale\":[[0.0,\"#0d0887\"],[0.1111111111111111,\"#46039f\"],[0.2222222222222222,\"#7201a8\"],[0.3333333333333333,\"#9c179e\"],[0.4444444444444444,\"#bd3786\"],[0.5555555555555556,\"#d8576b\"],[0.6666666666666666,\"#ed7953\"],[0.7777777777777778,\"#fb9f3a\"],[0.8888888888888888,\"#fdca26\"],[1.0,\"#f0f921\"]],\"type\":\"surface\"}],\"table\":[{\"cells\":{\"fill\":{\"color\":\"#EBF0F8\"},\"line\":{\"color\":\"white\"}},\"header\":{\"fill\":{\"color\":\"#C8D4E3\"},\"line\":{\"color\":\"white\"}},\"type\":\"table\"}]},\"layout\":{\"annotationdefaults\":{\"arrowcolor\":\"#2a3f5f\",\"arrowhead\":0,\"arrowwidth\":1},\"autotypenumbers\":\"strict\",\"coloraxis\":{\"colorbar\":{\"outlinewidth\":0,\"ticks\":\"\"}},\"colorscale\":{\"diverging\":[[0,\"#8e0152\"],[0.1,\"#c51b7d\"],[0.2,\"#de77ae\"],[0.3,\"#f1b6da\"],[0.4,\"#fde0ef\"],[0.5,\"#f7f7f7\"],[0.6,\"#e6f5d0\"],[0.7,\"#b8e186\"],[0.8,\"#7fbc41\"],[0.9,\"#4d9221\"],[1,\"#276419\"]],\"sequential\":[[0.0,\"#0d0887\"],[0.1111111111111111,\"#46039f\"],[0.2222222222222222,\"#7201a8\"],[0.3333333333333333,\"#9c179e\"],[0.4444444444444444,\"#bd3786\"],[0.5555555555555556,\"#d8576b\"],[0.6666666666666666,\"#ed7953\"],[0.7777777777777778,\"#fb9f3a\"],[0.8888888888888888,\"#fdca26\"],[1.0,\"#f0f921\"]],\"sequentialminus\":[[0.0,\"#0d0887\"],[0.1111111111111111,\"#46039f\"],[0.2222222222222222,\"#7201a8\"],[0.3333333333333333,\"#9c179e\"],[0.4444444444444444,\"#bd3786\"],[0.5555555555555556,\"#d8576b\"],[0.6666666666666666,\"#ed7953\"],[0.7777777777777778,\"#fb9f3a\"],[0.8888888888888888,\"#fdca26\"],[1.0,\"#f0f921\"]]},\"colorway\":[\"#636efa\",\"#EF553B\",\"#00cc96\",\"#ab63fa\",\"#FFA15A\",\"#19d3f3\",\"#FF6692\",\"#B6E880\",\"#FF97FF\",\"#FECB52\"],\"font\":{\"color\":\"#2a3f5f\"},\"geo\":{\"bgcolor\":\"white\",\"lakecolor\":\"white\",\"landcolor\":\"#E5ECF6\",\"showlakes\":true,\"showland\":true,\"subunitcolor\":\"white\"},\"hoverlabel\":{\"align\":\"left\"},\"hovermode\":\"closest\",\"mapbox\":{\"style\":\"light\"},\"paper_bgcolor\":\"white\",\"plot_bgcolor\":\"#E5ECF6\",\"polar\":{\"angularaxis\":{\"gridcolor\":\"white\",\"linecolor\":\"white\",\"ticks\":\"\"},\"bgcolor\":\"#E5ECF6\",\"radialaxis\":{\"gridcolor\":\"white\",\"linecolor\":\"white\",\"ticks\":\"\"}},\"scene\":{\"xaxis\":{\"backgroundcolor\":\"#E5ECF6\",\"gridcolor\":\"white\",\"gridwidth\":2,\"linecolor\":\"white\",\"showbackground\":true,\"ticks\":\"\",\"zerolinecolor\":\"white\"},\"yaxis\":{\"backgroundcolor\":\"#E5ECF6\",\"gridcolor\":\"white\",\"gridwidth\":2,\"linecolor\":\"white\",\"showbackground\":true,\"ticks\":\"\",\"zerolinecolor\":\"white\"},\"zaxis\":{\"backgroundcolor\":\"#E5ECF6\",\"gridcolor\":\"white\",\"gridwidth\":2,\"linecolor\":\"white\",\"showbackground\":true,\"ticks\":\"\",\"zerolinecolor\":\"white\"}},\"shapedefaults\":{\"line\":{\"color\":\"#2a3f5f\"}},\"ternary\":{\"aaxis\":{\"gridcolor\":\"white\",\"linecolor\":\"white\",\"ticks\":\"\"},\"baxis\":{\"gridcolor\":\"white\",\"linecolor\":\"white\",\"ticks\":\"\"},\"bgcolor\":\"#E5ECF6\",\"caxis\":{\"gridcolor\":\"white\",\"linecolor\":\"white\",\"ticks\":\"\"}},\"title\":{\"x\":0.05},\"xaxis\":{\"automargin\":true,\"gridcolor\":\"white\",\"linecolor\":\"white\",\"ticks\":\"\",\"title\":{\"standoff\":15},\"zerolinecolor\":\"white\",\"zerolinewidth\":2},\"yaxis\":{\"automargin\":true,\"gridcolor\":\"white\",\"linecolor\":\"white\",\"ticks\":\"\",\"title\":{\"standoff\":15},\"zerolinecolor\":\"white\",\"zerolinewidth\":2}}}},                        {\"responsive\": true}                    ).then(function(){\n",
              "                            \n",
              "var gd = document.getElementById('58dd680e-ebde-46a3-a6ef-c4b64ba7c85a');\n",
              "var x = new MutationObserver(function (mutations, observer) {{\n",
              "        var display = window.getComputedStyle(gd).display;\n",
              "        if (!display || display === 'none') {{\n",
              "            console.log([gd, 'removed!']);\n",
              "            Plotly.purge(gd);\n",
              "            observer.disconnect();\n",
              "        }}\n",
              "}});\n",
              "\n",
              "// Listen for the removal of the full notebook cells\n",
              "var notebookContainer = gd.closest('#notebook-container');\n",
              "if (notebookContainer) {{\n",
              "    x.observe(notebookContainer, {childList: true});\n",
              "}}\n",
              "\n",
              "// Listen for the clearing of the current output cell\n",
              "var outputEl = gd.closest('.output');\n",
              "if (outputEl) {{\n",
              "    x.observe(outputEl, {childList: true});\n",
              "}}\n",
              "\n",
              "                        })                };                            </script>        </div>\n",
              "</body>\n",
              "</html>"
            ]
          },
          "metadata": {}
        }
      ],
      "source": [
        "from collections import Counter\n",
        "eda_result=result.copy()\n",
        "split_genre = \", \".join(eda_result['Genre']).split(\", \")\n",
        "split_genre = Counter(split_genre).most_common(10)\n",
        "\n",
        "genrefig = go.Figure(data=[go.Pie(labels=[_[0] for _ in split_genre][::-1], values=[_[1] for _ in split_genre][::-1], \n",
        "                textinfo='label')], layout=go.Layout(title=\"Contenidos por género\"))\n",
        "genrefig.show()"
      ]
    },
    {
      "cell_type": "markdown",
      "metadata": {
        "id": "jiEthwFV_TbC"
      },
      "source": [
        "Los tres géneros dominantes en Netflix son las comedias (13%), las películas internacionales (23%) y los dramas (24%). Pero también sabemos que una película o programa de televisión puede ser tanto comedia como drama o internacional y comedia, etc. Un contenido es internacional si no es de Estados Unidos."
      ]
    },
    {
      "cell_type": "markdown",
      "source": [
        "## **4.6 Valoracion por género**"
      ],
      "metadata": {
        "id": "vwT8FzZDburw"
      }
    },
    {
      "cell_type": "markdown",
      "metadata": {
        "id": "tjpFCZM1_beM"
      },
      "source": [
        "A continuacion un gráfico de caja para analizar la valoración media por Género."
      ]
    },
    {
      "cell_type": "code",
      "execution_count": null,
      "metadata": {
        "colab": {
          "base_uri": "https://localhost:8080/",
          "height": 604
        },
        "id": "fHpsmXDEIRdp",
        "outputId": "f5f51568-9760-4a1e-baa0-890d6598b6cf"
      },
      "outputs": [
        {
          "output_type": "display_data",
          "data": {
            "image/png": "[encoded data removed]",
            "text/plain": [
              "<Figure size 1440x720 with 1 Axes>"
            ]
          },
          "metadata": {
            "needs_background": "light"
          }
        }
      ],
      "source": [
        "eda_result['firstword_genre'] = eda_result['Genre'].str.split(',').str[0]\n",
        "count = eda_result['firstword_genre'].value_counts()[:7]\n",
        "top_genres = list(count.index)\n",
        "genreratingbox = eda_result[eda_result['firstword_genre'].isin(top_genres)]\n",
        "genreratingbox = genreratingbox[['firstword_genre', 'IMDb Rating', 'Votes']]\n",
        "\n",
        "plt.figure(figsize=(20, 10))\n",
        "sns.boxplot(x='firstword_genre', y='IMDb Rating', data=genreratingbox)\n",
        "plt.xlabel(\"Nombre del género\",fontsize=14)\n",
        "plt.ylabel(\"Calificación media de IMDb\",fontsize=15)\n",
        "plt.title(\"Valoración media por género\", fontsize=18)\n",
        "plt.show()"
      ]
    },
    {
      "cell_type": "markdown",
      "metadata": {
        "id": "dW8rQAbO_yZs"
      },
      "source": [
        "Como se puede observar no hay diferencias significativas entre la distribución de la calificación de los géneros, generalmente se califican en torno al 6. La única diferencia significativa es en las películas de terror, que se clasifican en torno a 5."
      ]
    },
    {
      "cell_type": "markdown",
      "source": [
        "## **4.7 Relacion entre votos y calificaciones de IMDb**"
      ],
      "metadata": {
        "id": "PFJasRFhb3Cc"
      }
    },
    {
      "cell_type": "markdown",
      "metadata": {
        "id": "ZbhXuM2U_9aj"
      },
      "source": [
        "Muestra de la relación entre los votos y las calificaciones de IMDb"
      ]
    },
    {
      "cell_type": "code",
      "execution_count": null,
      "metadata": {
        "colab": {
          "base_uri": "https://localhost:8080/",
          "height": 422
        },
        "id": "w7a9PupvABO2",
        "outputId": "9978952a-91f4-4176-a84e-346d941d00cf"
      },
      "outputs": [
        {
          "output_type": "execute_result",
          "data": {
            "text/plain": [
              "(0.0, 10.0)"
            ]
          },
          "metadata": {},
          "execution_count": 28
        },
        {
          "output_type": "display_data",
          "data": {
            "image/png": "[encoded data removed]",
            "text/plain": [
              "<Figure size 720x432 with 1 Axes>"
            ]
          },
          "metadata": {
            "needs_background": "light"
          }
        }
      ],
      "source": [
        "ax=result.plot.scatter(x ='Votes', y ='IMDb Rating',figsize=(10,6)) \n",
        "ax.set_ylabel(\"Valoraciones\")\n",
        "ax.set_xlabel(\"Votos\")\n",
        "ax.set_title(\"Relación entre los votos y las valoraciones del IMBd\")\n",
        "ax.set_xlim((100, 300))\n",
        "ax.set_ylim((0, 10))"
      ]
    },
    {
      "cell_type": "markdown",
      "source": [
        "## **4.8 Relación entre la duración y las calificaciones de IMDb.**"
      ],
      "metadata": {
        "id": "SemuXRmocCRN"
      }
    },
    {
      "cell_type": "markdown",
      "metadata": {
        "id": "YnltvKf_AUQw"
      },
      "source": [
        "Muestra de la relación entre la duración y las calificaciones de IMDb. \n",
        "\n",
        "El valor R de Pearson para la duración y la valoración es de 0,48, mientras que el valor R de Spearman es de 0,52. Los contenidos que tienen una duración de entre 75 y 125 minutos son los más votados, lo que también muestra que la mayoría de los contenidos tienen una duración de entre 75 y 125 minutos. La razón por la que el coeficiente de correlación de Spearman es mayor que el de Pearson es la intensidad en el área de 75-125."
      ]
    },
    {
      "cell_type": "code",
      "execution_count": null,
      "metadata": {
        "colab": {
          "base_uri": "https://localhost:8080/",
          "height": 422
        },
        "id": "KJRlnFYAAfgW",
        "outputId": "7cdf9408-00b7-4ce7-e764-699e0e7f6a41"
      },
      "outputs": [
        {
          "output_type": "execute_result",
          "data": {
            "text/plain": [
              "(0.0, 10.0)"
            ]
          },
          "metadata": {},
          "execution_count": 29
        },
        {
          "output_type": "display_data",
          "data": {
            "image/png": "[encoded data removed]",
            "text/plain": [
              "<Figure size 720x432 with 1 Axes>"
            ]
          },
          "metadata": {
            "needs_background": "light"
          }
        }
      ],
      "source": [
        "ax=result.plot.scatter(x ='Duration', y ='IMDb Rating',figsize=(10,6)) \n",
        "ax.set_ylabel(\"Valoración\")\n",
        "ax.set_xlabel(\"Duración\")\n",
        "ax.set_title(\"Relacion entre la Duración y Valoraciones del IMBd\")\n",
        "ax.set_xlim((50, 240))\n",
        "ax.set_ylim((0, 10))"
      ]
    },
    {
      "cell_type": "markdown",
      "metadata": {
        "id": "eN7D7NFqAUFH"
      },
      "source": [
        "Estas variables muestran los valores medios de los contenidos que tienen una duración entre 75-100 minutos y los contenidos que tienen una duración entre 100-125 minutos. La valoración media de IMDb para los contenidos de 75-100 minutos es de 5,4 mientras que la valoración de 6,2 para los contenidos de 100-125 minutos, la diferencia es de 0,8.Lo que concuerda con la observación ampírica realizada en el gráfico de correlación."
      ]
    },
    {
      "cell_type": "code",
      "execution_count": null,
      "metadata": {
        "colab": {
          "base_uri": "https://localhost:8080/"
        },
        "id": "o_30SnBGAqee",
        "outputId": "44e496c3-5bd8-490a-c961-ce0f730074ab"
      },
      "outputs": [
        {
          "output_type": "stream",
          "name": "stderr",
          "text": [
            "/usr/local/lib/python3.7/dist-packages/ipykernel_launcher.py:3: FutureWarning:\n",
            "\n",
            "Dropping of nuisance columns in DataFrame reductions (with 'numeric_only=None') is deprecated; in a future version this will raise TypeError.  Select only valid columns before calling the reduction.\n",
            "\n"
          ]
        },
        {
          "output_type": "execute_result",
          "data": {
            "text/plain": [
              "Duration         110.555283\n",
              "IMDb Rating        6.165848\n",
              "Votes          34829.367322\n",
              "Year            2013.556511\n",
              "dtype: float64"
            ]
          },
          "metadata": {},
          "execution_count": 30
        }
      ],
      "source": [
        "result125=result[result[\"Duration\"]<=125]\n",
        "result100_125=result125[result125[\"Duration\"]>=100]\n",
        "result100_125.mean()"
      ]
    },
    {
      "cell_type": "code",
      "execution_count": null,
      "metadata": {
        "colab": {
          "base_uri": "https://localhost:8080/"
        },
        "id": "U2jK6RhQAs3S",
        "outputId": "1ce9f3b1-561f-4d05-95a2-44a47d12d5fa"
      },
      "outputs": [
        {
          "output_type": "stream",
          "name": "stderr",
          "text": [
            "/usr/local/lib/python3.7/dist-packages/ipykernel_launcher.py:3: FutureWarning:\n",
            "\n",
            "Dropping of nuisance columns in DataFrame reductions (with 'numeric_only=None') is deprecated; in a future version this will raise TypeError.  Select only valid columns before calling the reduction.\n",
            "\n"
          ]
        },
        {
          "output_type": "execute_result",
          "data": {
            "text/plain": [
              "Duration          90.386296\n",
              "IMDb Rating        5.452135\n",
              "Votes          14438.949355\n",
              "Year            2014.847071\n",
              "dtype: float64"
            ]
          },
          "metadata": {},
          "execution_count": 31
        }
      ],
      "source": [
        "result75=result[result[\"Duration\"]>=75]\n",
        "result75_100=result75[result75[\"Duration\"]<=100]\n",
        "result75_100.mean()"
      ]
    },
    {
      "cell_type": "markdown",
      "source": [
        "## **4.9 Relación entre calificacion IMDb y el Orígen**"
      ],
      "metadata": {
        "id": "ii3Ao-mxcUVY"
      }
    },
    {
      "cell_type": "markdown",
      "metadata": {
        "id": "AlQ3uUclAT2k"
      },
      "source": [
        "Este gráfico muestra la relación entre la calificación IMDb y el país. La mayoría de las películas que tienen una calificación IMDb superior a 8 son originarias de la India y Estados Unidos."
      ]
    },
    {
      "cell_type": "code",
      "execution_count": null,
      "metadata": {
        "colab": {
          "base_uri": "https://localhost:8080/",
          "height": 422
        },
        "id": "xW4Lt5hdA33h",
        "outputId": "da35bd6a-2c21-4422-f330-f99e0d4e3e84"
      },
      "outputs": [
        {
          "output_type": "execute_result",
          "data": {
            "text/plain": [
              "(0.0, 10.0)"
            ]
          },
          "metadata": {},
          "execution_count": 32
        },
        {
          "output_type": "display_data",
          "data": {
            "image/png": "[encoded data removed]",
            "text/plain": [
              "<Figure size 1080x432 with 1 Axes>"
            ]
          },
          "metadata": {
            "needs_background": "light"
          }
        }
      ],
      "source": [
        "ax=result.plot.scatter(x ='IMDb Rating', y ='Country',figsize=(15,6)) \n",
        "ax.set_ylabel(\"País\")\n",
        "ax.set_xlabel(\"Valoraciones IMBd\")\n",
        "ax.set_title(\"Relación entre la calificación de IMDb y el origen\")\n",
        "ax.set_xlim((0, 10))\n",
        "ax.set_ylim((0, 10))"
      ]
    },
    {
      "cell_type": "markdown",
      "source": [
        "## **4.10 Relación entre la duracion y el Orígen**"
      ],
      "metadata": {
        "id": "xPtUrKeod8l7"
      }
    },
    {
      "cell_type": "markdown",
      "metadata": {
        "id": "XjFMZb9SA-hk"
      },
      "source": [
        "La mayoría de los contenidos tienen una duración de entre 75 y 125 minutos, sólo los contenidos indios tienen una mayoría de hasta 180 minutos."
      ]
    },
    {
      "cell_type": "code",
      "execution_count": null,
      "metadata": {
        "colab": {
          "base_uri": "https://localhost:8080/",
          "height": 422
        },
        "id": "y83hDZoDA3zR",
        "outputId": "a077396e-6419-4c10-d75c-b990f629c2d2"
      },
      "outputs": [
        {
          "output_type": "execute_result",
          "data": {
            "text/plain": [
              "(0.0, 10.0)"
            ]
          },
          "metadata": {},
          "execution_count": 33
        },
        {
          "output_type": "display_data",
          "data": {
            "image/png": "[encoded data removed]",
            "text/plain": [
              "<Figure size 720x432 with 1 Axes>"
            ]
          },
          "metadata": {
            "needs_background": "light"
          }
        }
      ],
      "source": [
        "ax=result.plot.scatter(x ='Duration', y ='Country',figsize=(10,6)) \n",
        "ax.set_ylabel(\"País\")\n",
        "ax.set_xlabel(\"Duración\")\n",
        "ax.set_title(\"Relacion entre la Duración y el Origen\")\n",
        "ax.set_xlim((50, 240))\n",
        "ax.set_ylim((0, 10))"
      ]
    },
    {
      "cell_type": "code",
      "source": [
        ""
      ],
      "metadata": {
        "id": "vnG06mfRjWPl"
      },
      "execution_count": null,
      "outputs": []
    },
    {
      "cell_type": "code",
      "source": [
        ""
      ],
      "metadata": {
        "id": "2zMnkfx8jWDk"
      },
      "execution_count": null,
      "outputs": []
    }
  ],
  "metadata": {
    "colab": {
      "collapsed_sections": [],
      "name": "MoviePredictions_AED.ipynb",
      "provenance": [],
      "toc_visible": true
    },
    "kernelspec": {
      "display_name": "Python 3",
      "name": "python3"
    },
    "language_info": {
      "name": "python"
    }
  },
  "nbformat": 4,
  "nbformat_minor": 0
}